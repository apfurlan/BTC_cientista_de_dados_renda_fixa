{
 "cells": [
  {
   "cell_type": "code",
   "execution_count": null,
   "metadata": {},
   "outputs": [],
   "source": [
    "#!pip install handcalcs"
   ]
  },
  {
   "cell_type": "code",
   "execution_count": 1,
   "metadata": {},
   "outputs": [],
   "source": [
    "import handcalcs.render as render\n",
    "from handcalcs import handcalc"
   ]
  },
  {
   "cell_type": "markdown",
   "metadata": {},
   "source": [
    "# 1.0 Juros"
   ]
  },
  {
   "cell_type": "markdown",
   "metadata": {},
   "source": [
    "Juros é a remuneração pelo uso do capital"
   ]
  },
  {
   "cell_type": "markdown",
   "metadata": {},
   "source": [
    "$$ M = P + J $$\n",
    "Em que:\n",
    "$J = $ Juros,\n",
    "$P = $ Principal ou capital inicial,\n",
    "$M = $ Montante ou capital final"
   ]
  },
  {
   "cell_type": "markdown",
   "metadata": {},
   "source": [
    "# 1.1 Taxas de Juros"
   ]
  },
  {
   "cell_type": "markdown",
   "metadata": {},
   "source": [
    "No mercado financeiro, os juros são expressos como uma fração do capital inicial."
   ]
  },
  {
   "cell_type": "markdown",
   "metadata": {},
   "source": [
    "$$ J = i\\times P $$\n",
    "$$ M = (1 + i) P $$"
   ]
  },
  {
   "cell_type": "markdown",
   "metadata": {},
   "source": [
    "# Exemplo 1\n",
    "\n",
    "Um indivíduo faz um investimento de 10.000,00 reais pelo prazo de cinco meses. No final do prazo, ele recebe 10.800,00 reais. Determine:\n",
    "- a) Os Juros recebidos\n",
    "- b) A taxa de juros do negócio"
   ]
  },
  {
   "cell_type": "markdown",
   "metadata": {},
   "source": [
    "a)"
   ]
  },
  {
   "cell_type": "code",
   "execution_count": 2,
   "metadata": {},
   "outputs": [
    {
     "name": "stdout",
     "output_type": "stream",
     "text": [
      " Juros recebidos: R$ 800 reais\n"
     ]
    }
   ],
   "source": [
    "P = 10_000 # reais\n",
    "M = 10_800 # reais\n",
    "J = M - P\n",
    "print(f' Juros recebidos: R$ {J} reais')"
   ]
  },
  {
   "cell_type": "code",
   "execution_count": 3,
   "metadata": {},
   "outputs": [
    {
     "name": "stdout",
     "output_type": "stream",
     "text": [
      " Taxa de juros: 8.0 % a.p.\n"
     ]
    }
   ],
   "source": [
    "i = 100*(M/P - 1)\n",
    "print(f' Taxa de juros: {round(i,2)} % a.p.')"
   ]
  },
  {
   "cell_type": "markdown",
   "metadata": {},
   "source": [
    "# 1.2 Regimes de capitalização Discreta"
   ]
  },
  {
   "cell_type": "markdown",
   "metadata": {},
   "source": [
    "### 1.2.1 Regime de capitalização discreta"
   ]
  },
  {
   "cell_type": "markdown",
   "metadata": {},
   "source": [
    "- No regime de capitalização discreta os juros são incorporados ao capital no fim de cada intervalo.\n",
    "- Basicamente temos dois tipos de capitalização discreta: regime de capitalização simples e regime de capitalização composta"
   ]
  },
  {
   "cell_type": "markdown",
   "metadata": {},
   "source": [
    "#### 1.2.1.1. Regime de capitalização discreta simples"
   ]
  },
  {
   "cell_type": "markdown",
   "metadata": {},
   "source": [
    "Regime de capitalização simples: Os juros são gerados exclusivamente sobre o capital P (principal) investido."
   ]
  },
  {
   "cell_type": "markdown",
   "metadata": {},
   "source": [
    "- $ M_0 = P = Principal$\n",
    "- $ M_1 = M_0 + i M_0 = (1 + i)M_0$\n",
    "- $ M_2 = M_1 + i M_0 = M_0 + 2 i M_0 = (1 + 2 i)M_0$\n",
    "- $ M_3 = M_2 + i M_0 = M_0 + 3 i M_0 = (1 + 3 i)M_0$\n",
    "$$ M_n = (1 + n i)M_0 $$"
   ]
  },
  {
   "cell_type": "code",
   "execution_count": 4,
   "metadata": {},
   "outputs": [],
   "source": [
    "#montante simples\n",
    "@handcalc(jupyter_display=True)\n",
    "def montante_simples(P, i, N):\n",
    "    MS = (1+N*i/100)*P\n",
    "    return MS"
   ]
  },
  {
   "cell_type": "markdown",
   "metadata": {},
   "source": [
    "# Exemplo 2\n",
    "Um indivíduo faz uma aplicação de R$20.000,00 por 5 anos numa instituição financeira que paga uma taxa de 7% a.a. (ao ano) no regime de capitalização simples. Qual é o montante da operação?"
   ]
  },
  {
   "cell_type": "code",
   "execution_count": 5,
   "metadata": {},
   "outputs": [
    {
     "data": {
      "text/latex": [
       "\\[\n",
       "\\begin{aligned}\n",
       "\\mathrm{MS} &= \\left( 1 + N \\cdot \\frac{ i }{ 100 } \\right) \\cdot P  = \\left( 1 + 5 \\cdot \\frac{ 7 }{ 100 } \\right) \\cdot 20000 &= 27000.000  \n",
       "\\end{aligned}\n",
       "\\]"
      ],
      "text/plain": [
       "<IPython.core.display.Latex object>"
      ]
     },
     "metadata": {},
     "output_type": "display_data"
    },
    {
     "name": "stdout",
     "output_type": "stream",
     "text": [
      " O montante da operação é R$ 27000.0\n"
     ]
    }
   ],
   "source": [
    "P = 20_000 # reais\n",
    "N = 5 # anos\n",
    "i = 7 # % a.a.\n",
    "MS = montante_simples(P, i, N)\n",
    "print(f' O montante da operação é R$ {MS}')"
   ]
  },
  {
   "cell_type": "markdown",
   "metadata": {},
   "source": [
    "#### 1.2.1.2 Regime de capitalização discreta composta"
   ]
  },
  {
   "cell_type": "markdown",
   "metadata": {},
   "source": [
    "Já no regime de capitalização composta os juros incidem sobre o Montante do período anterior"
   ]
  },
  {
   "cell_type": "markdown",
   "metadata": {},
   "source": [
    "- $ M_0 = P  = Principal$\n",
    "- $ M_1 = M_0 + i M_0 = (1 + i) M_0$\n",
    "- $ M_2 = M_1 + i M_1  = (1 + i) M_1 = (1 + i)^{2}M_0$\n",
    "- $ M_3 = M_2 + i M_2 = (1 + i) M_2 = (1 + i)^{2} M_1 = (1 + i)^{3} M_0$\n",
    "$$ M_n =  (1 + i)^{n} M_0 $$"
   ]
  },
  {
   "cell_type": "code",
   "execution_count": 7,
   "metadata": {},
   "outputs": [],
   "source": [
    "# montante composto\n",
    "@handcalc(jupyter_display=True)\n",
    "def montante_composto(P, i, N):\n",
    "    MC = P*(1 + i/100)**N\n",
    "    return MC\n"
   ]
  },
  {
   "cell_type": "markdown",
   "metadata": {},
   "source": [
    "# Exemplo 3\n",
    "Um indivíduo toma um empréstimo de R$20.000,00 por um período de quatro meses. A taxa do empréstimo é de 0,65% a.m. (ao mês). Considerando o regime de juros compostos, determine o montante do empréstimo no final do período."
   ]
  },
  {
   "cell_type": "code",
   "execution_count": 8,
   "metadata": {},
   "outputs": [
    {
     "data": {
      "text/latex": [
       "\\[\n",
       "\\begin{aligned}\n",
       "\\mathrm{MC} &= P \\cdot \\left( 1 + \\frac{ i }{ 100 } \\right) ^{ N }  = 20000 \\cdot \\left( 1 + \\frac{ 0.650 }{ 100 } \\right) ^{ 4 } &= 20525.092  \n",
       "\\end{aligned}\n",
       "\\]"
      ],
      "text/plain": [
       "<IPython.core.display.Latex object>"
      ]
     },
     "metadata": {},
     "output_type": "display_data"
    },
    {
     "name": "stdout",
     "output_type": "stream",
     "text": [
      " O montante da operação é 20525.092005701248\n"
     ]
    }
   ],
   "source": [
    "P = 20_000 # reais\n",
    "N = 4 # meses\n",
    "i = 0.65 # % a.m.\n",
    "MC = montante_composto(P, i, N)\n",
    "print(f' O montante da operação é {MC}')"
   ]
  },
  {
   "cell_type": "markdown",
   "metadata": {},
   "source": [
    "# Comparação entre os regimes de capitalização simples e composta"
   ]
  },
  {
   "cell_type": "code",
   "execution_count": 13,
   "metadata": {},
   "outputs": [
    {
     "data": {
      "text/latex": [
       "\\[\n",
       "\\begin{aligned}\n",
       "\\mathrm{MS} &= \\left( 1 + N \\cdot \\frac{ i }{ 100 } \\right) \\cdot P  = \\left( 1 + 0.500 \\cdot \\frac{ 7.100 }{ 100 } \\right) \\cdot 10000 &= 10355.000  \n",
       "\\end{aligned}\n",
       "\\]"
      ],
      "text/plain": [
       "<IPython.core.display.Latex object>"
      ]
     },
     "metadata": {},
     "output_type": "display_data"
    },
    {
     "data": {
      "text/latex": [
       "\\[\n",
       "\\begin{aligned}\n",
       "\\mathrm{MS} &= \\left( 1 + N \\cdot \\frac{ i }{ 100 } \\right) \\cdot P  = \\left( 1 + 1 \\cdot \\frac{ 7.100 }{ 100 } \\right) \\cdot 10000 &= 10710.000  \n",
       "\\end{aligned}\n",
       "\\]"
      ],
      "text/plain": [
       "<IPython.core.display.Latex object>"
      ]
     },
     "metadata": {},
     "output_type": "display_data"
    },
    {
     "data": {
      "text/latex": [
       "\\[\n",
       "\\begin{aligned}\n",
       "\\mathrm{MS} &= \\left( 1 + N \\cdot \\frac{ i }{ 100 } \\right) \\cdot P  = \\left( 1 + 1.500 \\cdot \\frac{ 7.100 }{ 100 } \\right) \\cdot 10000 &= 11065.000  \n",
       "\\end{aligned}\n",
       "\\]"
      ],
      "text/plain": [
       "<IPython.core.display.Latex object>"
      ]
     },
     "metadata": {},
     "output_type": "display_data"
    },
    {
     "data": {
      "text/latex": [
       "\\[\n",
       "\\begin{aligned}\n",
       "\\mathrm{MS} &= \\left( 1 + N \\cdot \\frac{ i }{ 100 } \\right) \\cdot P  = \\left( 1 + 20 \\cdot \\frac{ 7.100 }{ 100 } \\right) \\cdot 10000 &= 24200.000  \n",
       "\\end{aligned}\n",
       "\\]"
      ],
      "text/plain": [
       "<IPython.core.display.Latex object>"
      ]
     },
     "metadata": {},
     "output_type": "display_data"
    },
    {
     "data": {
      "text/latex": [
       "\\[\n",
       "\\begin{aligned}\n",
       "\\mathrm{MC} &= P \\cdot \\left( 1 + \\frac{ i }{ 100 } \\right) ^{ N }  = 10000 \\cdot \\left( 1 + \\frac{ 7.100 }{ 100 } \\right) ^{ 0.500 } &= 10348.913  \n",
       "\\end{aligned}\n",
       "\\]"
      ],
      "text/plain": [
       "<IPython.core.display.Latex object>"
      ]
     },
     "metadata": {},
     "output_type": "display_data"
    },
    {
     "data": {
      "text/latex": [
       "\\[\n",
       "\\begin{aligned}\n",
       "\\mathrm{MC} &= P \\cdot \\left( 1 + \\frac{ i }{ 100 } \\right) ^{ N }  = 10000 \\cdot \\left( 1 + \\frac{ 7.100 }{ 100 } \\right) ^{ 1 } &= 10710.000  \n",
       "\\end{aligned}\n",
       "\\]"
      ],
      "text/plain": [
       "<IPython.core.display.Latex object>"
      ]
     },
     "metadata": {},
     "output_type": "display_data"
    },
    {
     "data": {
      "text/latex": [
       "\\[\n",
       "\\begin{aligned}\n",
       "\\mathrm{MC} &= P \\cdot \\left( 1 + \\frac{ i }{ 100 } \\right) ^{ N }  = 10000 \\cdot \\left( 1 + \\frac{ 7.100 }{ 100 } \\right) ^{ 1.500 } &= 11083.686  \n",
       "\\end{aligned}\n",
       "\\]"
      ],
      "text/plain": [
       "<IPython.core.display.Latex object>"
      ]
     },
     "metadata": {},
     "output_type": "display_data"
    },
    {
     "data": {
      "text/latex": [
       "\\[\n",
       "\\begin{aligned}\n",
       "\\mathrm{MC} &= P \\cdot \\left( 1 + \\frac{ i }{ 100 } \\right) ^{ N }  = 10000 \\cdot \\left( 1 + \\frac{ 7.100 }{ 100 } \\right) ^{ 20 } &= 39426.608  \n",
       "\\end{aligned}\n",
       "\\]"
      ],
      "text/plain": [
       "<IPython.core.display.Latex object>"
      ]
     },
     "metadata": {},
     "output_type": "display_data"
    },
    {
     "name": "stdout",
     "output_type": "stream",
     "text": [
      " dif: [6.08701360379564, 0.0, -18.685808430334873, -15226.608157146911]\n"
     ]
    }
   ],
   "source": [
    "P = 10_000 # reais\n",
    "i = 7.1 #% a.a.\n",
    "N = [0.5, 1, 1.5] # anos\n",
    "MS = [montante_simples(P, i, n) for n in N]\n",
    "MC = [montante_composto(P, i, n) for n in N]\n",
    "dif = [x - y for x,y in zip(MS, MC)]\n",
    "print(f' dif: {dif}')"
   ]
  },
  {
   "cell_type": "code",
   "execution_count": 14,
   "metadata": {},
   "outputs": [
    {
     "data": {
      "image/png": "[encoded data removed]",
      "text/plain": [
       "<Figure size 432x288 with 1 Axes>"
      ]
     },
     "metadata": {
      "needs_background": "light"
     },
     "output_type": "display_data"
    }
   ],
   "source": [
    "import matplotlib.pyplot as plt\n",
    "plt.plot(N, MS, color= 'b', label = 'simples')\n",
    "plt.plot(N, MC, color= 'r', label = 'composto')\n",
    "plt.grid(True)\n",
    "plt.xlabel('Anos')\n",
    "plt.ylabel('Montante em R$')\n",
    "plt.title('Comparação entre capitalização simples e composta')\n",
    "plt.legend();\n"
   ]
  },
  {
   "cell_type": "markdown",
   "metadata": {},
   "source": [
    "Referência Bibliográfica : José Roberto Securato. Cálculo financeiro das tesourarias; Bancos e empresas. Saint Paul Editora LTDA"
   ]
  },
  {
   "cell_type": "markdown",
   "metadata": {},
   "source": []
  }
 ],
 "metadata": {
  "kernelspec": {
   "display_name": "Python 3 (ipykernel)",
   "language": "python",
   "name": "python3"
  },
  "language_info": {
   "codemirror_mode": {
    "name": "ipython",
    "version": 3
   },
   "file_extension": ".py",
   "mimetype": "text/x-python",
   "name": "python",
   "nbconvert_exporter": "python",
   "pygments_lexer": "ipython3",
   "version": "3.8.10"
  },
  "vscode": {
   "interpreter": {
    "hash": "bce320103a4f9599bf42cb45744b1f3acee8930c6f7dcdff248089a2e65863cd"
   }
  }
 },
 "nbformat": 4,
 "nbformat_minor": 2
}
