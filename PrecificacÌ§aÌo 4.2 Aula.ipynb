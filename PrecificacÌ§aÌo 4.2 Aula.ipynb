{
 "cells": [
  {
   "cell_type": "code",
   "execution_count": 1,
   "metadata": {},
   "outputs": [],
   "source": [
    "import numpy as np"
   ]
  },
  {
   "cell_type": "markdown",
   "metadata": {},
   "source": [
    "# Tesouro Prefixado com Juros Semestrais (NTN-F) "
   ]
  },
  {
   "cell_type": "markdown",
   "metadata": {},
   "source": [
    "$$V_{P} = \\frac{cp}{(1 + \\frac{i}{100})^{\\frac{du_1}{252}}} + \\frac{cp}{(1 + \\frac{i}{100})^{\\frac{du_2}{252}}} + ... + \\frac{cp + VF}{(1 + \\frac{i}{100})^{\\frac{du_N}{252}}}$$"
   ]
  },
  {
   "cell_type": "markdown",
   "metadata": {},
   "source": [
    "$$ cp =VF*[(1 + tx_{cp}/100)^{1/2} - 1] $$\n",
    "\n",
    "$tx_{cp} = 10 $% a.a.\n",
    "\n",
    "$ VF = 1000$ R$"
   ]
  },
  {
   "cell_type": "code",
   "execution_count": 2,
   "metadata": {},
   "outputs": [
    {
     "data": {
      "text/plain": [
       "0.04880884817015163"
      ]
     },
     "execution_count": 2,
     "metadata": {},
     "output_type": "execute_result"
    }
   ],
   "source": [
    "tx_cp = 10/100\n",
    "tx_s = (1 + tx_cp)**(1/2) - 1\n",
    "tx_s "
   ]
  },
  {
   "cell_type": "code",
   "execution_count": 3,
   "metadata": {},
   "outputs": [],
   "source": [
    "def vp(taxa, list_du):\n",
    "    vf = 1_000 # reais\n",
    "    tx_c = 10 # % a.a.\n",
    "    list_num = len(list_du)*[vf*((1 + tx_c/100)**(1/2) - 1)]\n",
    "    list_num[-1] += vf\n",
    "    list_vp = []\n",
    "    for du, num in zip(list_du, list_num):\n",
    "        temp_vp = num/(1 + taxa/100)**(du/252)\n",
    "        list_vp.append(temp_vp)\n",
    "    vp = np.sum(list_vp)\n",
    "    return vp"
   ]
  },
  {
   "cell_type": "markdown",
   "metadata": {},
   "source": [
    "# Exemplo 1"
   ]
  },
  {
   "cell_type": "markdown",
   "metadata": {},
   "source": [
    "Qual é o valor presente de uma NTN-F com taxa de 11% a.a. e pagamentos de cupom com intervalos de 120, 240, 360 e 480 dias úteis em relação à hoje?"
   ]
  },
  {
   "cell_type": "code",
   "execution_count": 4,
   "metadata": {},
   "outputs": [
    {
     "name": "stdout",
     "output_type": "stream",
     "text": [
      "992.4216114430419\n"
     ]
    }
   ],
   "source": [
    "tx = 11\n",
    "list_du = [120, 240, 360, 480]\n",
    "v_p = vp(tx, list_du)\n",
    "print(v_p)"
   ]
  },
  {
   "cell_type": "markdown",
   "metadata": {},
   "source": [
    "# Exemplo 2"
   ]
  },
  {
   "cell_type": "markdown",
   "metadata": {},
   "source": [
    "Qual é o valor presente de uma NTN-F com taxa de 15% a.a. e pagamentos de cupom com intervalos de 122, 250, 374, 501, 625, 750, 874 e 1000 dias úteis em relação à hoje?"
   ]
  },
  {
   "cell_type": "code",
   "execution_count": 5,
   "metadata": {},
   "outputs": [
    {
     "name": "stdout",
     "output_type": "stream",
     "text": [
      "863.8354466031728\n"
     ]
    }
   ],
   "source": [
    "#Exemplo2 NTN-F Apostila Tesouro Direto\n",
    "tx = 15.00\n",
    "list_du = [122, 250, 374, 501, 625, 750, 874, 1000]\n",
    "v_p = vp(tx, list_du)\n",
    "print(v_p)"
   ]
  },
  {
   "cell_type": "code",
   "execution_count": null,
   "metadata": {},
   "outputs": [],
   "source": []
  }
 ],
 "metadata": {
  "kernelspec": {
   "display_name": "Python 3 (ipykernel)",
   "language": "python",
   "name": "python3"
  },
  "language_info": {
   "codemirror_mode": {
    "name": "ipython",
    "version": 3
   },
   "file_extension": ".py",
   "mimetype": "text/x-python",
   "name": "python",
   "nbconvert_exporter": "python",
   "pygments_lexer": "ipython3",
   "version": "3.8.10"
  },
  "vscode": {
   "interpreter": {
    "hash": "bce320103a4f9599bf42cb45744b1f3acee8930c6f7dcdff248089a2e65863cd"
   }
  }
 },
 "nbformat": 4,
 "nbformat_minor": 2
}
