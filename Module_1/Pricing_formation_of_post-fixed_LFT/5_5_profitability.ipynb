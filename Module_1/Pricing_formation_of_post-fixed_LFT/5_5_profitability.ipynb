{
 "cells": [
  {
   "cell_type": "markdown",
   "metadata": {},
   "source": [
    "# Venda antecipada - Títulos atrelados à Selic"
   ]
  },
  {
   "cell_type": "code",
   "execution_count": 3,
   "metadata": {},
   "outputs": [],
   "source": [
    "import numpy as np\n",
    "\n",
    "# Sobre as taxas https://www.tesourodireto.com.br/conheca/regras.htm\n",
    "class titulo_ntnb(object):\n",
    "    def __init__(self):\n",
    "        self.vf = 1_000 # valor de face, o valor que será recebido no vencimento por cada título comprado\n",
    "        self.tx_c = 10\n",
    "   \n",
    "    def get_pu(self, vna, selic_p, du, tx):\n",
    "        vna_p = vna*(1 + selic_p/100)**(1/252)\n",
    "        cot = 1/(1 + tx/100)**(du/252)\n",
    "        pu = vna_p*cot\n",
    "        return pu\n",
    "   \n",
    "    def venda_antecipada(self, vnapc, vnapv, duc, duv, txc, txv):\n",
    "        cotc = 1/(1 + txc/100)**(duc/252)\n",
    "        puc = vnapc*cotc\n",
    "        #print('pu_compra', puc)\n",
    "        cotv = 1/(1 + txv/100)**(duv/252)\n",
    "        puv = vnapv*cotv\n",
    "        #print('pu_venda', puv)\n",
    "        rb = puv/puc - 1\n",
    "        rba = (1 + rb)**(252/(duc - duv)) - 1\n",
    "        \n",
    "        return rb*100, rba*100"
   ]
  },
  {
   "cell_type": "markdown",
   "metadata": {},
   "source": [
    "# Exemplo 1"
   ]
  },
  {
   "cell_type": "code",
   "execution_count": 5,
   "metadata": {},
   "outputs": [
    {
     "name": "stdout",
     "output_type": "stream",
     "text": [
      "5330.624761838792\n"
     ]
    }
   ],
   "source": [
    "vna = 6543.016794 # último valor nominal disponível\n",
    "selic_p = 11.75 \n",
    "du = 543\n",
    "tx = 10.0\n",
    "tit = titulo_ntnb()\n",
    "pv = tit.get_pu(vna, selic_p, du, tx)\n",
    "print(pv)"
   ]
  },
  {
   "cell_type": "markdown",
   "metadata": {},
   "source": [
    "# Exemplo 2"
   ]
  },
  {
   "cell_type": "code",
   "execution_count": 7,
   "metadata": {},
   "outputs": [
    {
     "name": "stdout",
     "output_type": "stream",
     "text": [
      "4.78\n",
      "12.5\n"
     ]
    }
   ],
   "source": [
    "# compra\n",
    "vnac = 6543.016794\n",
    "selic_pc = 11.75\n",
    "vnapc = vnac*(1 + selic_pc/100)**(1/252)\n",
    "txc = 0.0\n",
    "duc = 543\n",
    "# venda\n",
    "vnapv = 6859.101523\n",
    "selic_pv = 11.75\n",
    "txv = 0.0\n",
    "duv = 443\n",
    "\n",
    "tit = titulo_ntnb()\n",
    "rb, rba = tit.venda_antecipada(vnapc, vnapv, duc, duv, txc, txv)\n",
    "print(np.round(rb,2))\n",
    "print(np.round(rba,2))"
   ]
  }
 ],
 "metadata": {
  "kernelspec": {
   "display_name": "Python 3 (ipykernel)",
   "language": "python",
   "name": "python3"
  },
  "language_info": {
   "codemirror_mode": {
    "name": "ipython",
    "version": 3
   },
   "file_extension": ".py",
   "mimetype": "text/x-python",
   "name": "python",
   "nbconvert_exporter": "python",
   "pygments_lexer": "ipython3",
   "version": "3.8.10"
  },
  "vscode": {
   "interpreter": {
    "hash": "bce320103a4f9599bf42cb45744b1f3acee8930c6f7dcdff248089a2e65863cd"
   }
  }
 },
 "nbformat": 4,
 "nbformat_minor": 2
}
