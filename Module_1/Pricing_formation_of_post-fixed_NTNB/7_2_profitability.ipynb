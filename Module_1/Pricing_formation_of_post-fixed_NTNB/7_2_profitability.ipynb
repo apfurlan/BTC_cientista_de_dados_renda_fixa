{
 "cells": [
  {
   "cell_type": "markdown",
   "metadata": {},
   "source": [
    "# Profitability - Inflation-based bonds with coupon payment"
   ]
  },
  {
   "cell_type": "code",
   "execution_count": 1,
   "metadata": {},
   "outputs": [],
   "source": [
    "import numpy as np\n",
    "\n",
    "# Sobre as taxas https://www.tesourodireto.com.br/conheca/regras.htm\n",
    "class titulo_ipca_cp(object):\n",
    "    \n",
    "    def __init__(self):\n",
    "        self.vf = 1 # valor de face, o valor que será recebido no vencimento por cada título comprado\n",
    "        self.tx_c = 6\n",
    "   \n",
    "    def get_pv(self, list_du, tx, vna):\n",
    "        list_num = len(list_du)*[(1 + self.tx_c/100)**(1/2) - 1]\n",
    "        list_num[-1] += 1\n",
    "        list_pv = []\n",
    "        for du, num in zip(list_du, list_num):\n",
    "            temp_pv = num/(1 + tx/100)**(du/252)\n",
    "            list_pv.append(temp_pv)\n",
    "        pv = vna*np.sum(list_pv)\n",
    "        return pv, list_pv\n",
    "    \n",
    "    def venda_antecipada(self, list_du, list_vna, ipca, tx_compra, vnac, vnacv, tx_venda, du_venda, tipo='r'):\n",
    "        list_num = len(list_du)*[(1 + self.tx_c/100)**(1/2) - 1]\n",
    "        list_num[-1] += 1\n",
    "        list_pv = []\n",
    "        list_cup = []\n",
    "        pv_compra,_ = titulo_ipca_cp().get_pv(list_du, tx_compra, vnac)\n",
    "        for du, num, vna in zip(list_du, list_num, list_vna):\n",
    "            if du_venda < du:\n",
    "                temp_pv = num/(1 + tx_venda/100)**((du - du_venda)/252)\n",
    "                list_pv.append(temp_pv)\n",
    "            else:\n",
    "                list_cup.append(vna*num*((1+ipca/100)**((du_venda-du)/252))*(1 + tx_venda/100)**((du_venda - du)/252) if tipo == 'r' else num)\n",
    "        pv_venda = vnacv*np.sum(list_pv)\n",
    "        valor_bruto_resgate = np.sum(list_cup) + pv_venda\n",
    "        rb = valor_bruto_resgate/pv_compra - 1\n",
    "        rba = (1 + rb)**(252/du_venda) - 1 \n",
    "        \n",
    "        return pv_venda, rb*100, rba*100"
   ]
  },
  {
   "cell_type": "markdown",
   "metadata": {},
   "source": [
    "## **Example 1**"
   ]
  },
  {
   "cell_type": "code",
   "execution_count": 2,
   "metadata": {},
   "outputs": [
    {
     "name": "stdout",
     "output_type": "stream",
     "text": [
      "R$2751.05\n",
      "16.44 %\n",
      "16.58 %\n"
     ]
    }
   ],
   "source": [
    "vnac = 2506.66\n",
    "vnacv = 2752.31\n",
    "tx_compra = 6.10\n",
    "list_du = [127, 250, 374, 500]\n",
    "list_vna = [2627.817310, 2752.317192, 0, 0]\n",
    "tit = titulo_ipca_cp()\n",
    "du_venda = 250\n",
    "tx_venda = 6.10\n",
    "ipca = 9.7\n",
    "pv_venda, rb, rba = tit.venda_antecipada(list_du, list_vna, ipca, tx_compra, vnac, vnacv, tx_venda, du_venda)\n",
    "\n",
    "print(\"R$\" + str(np.round(pv_venda,2)))\n",
    "print(str(np.round(rb,2)) + \" %\")\n",
    "print(np.round(rba,2), \"%\")"
   ]
  }
 ],
 "metadata": {
  "kernelspec": {
   "display_name": "Python 3.10.6 64-bit",
   "language": "python",
   "name": "python3"
  },
  "language_info": {
   "codemirror_mode": {
    "name": "ipython",
    "version": 3
   },
   "file_extension": ".py",
   "mimetype": "text/x-python",
   "name": "python",
   "nbconvert_exporter": "python",
   "pygments_lexer": "ipython3",
   "version": "3.10.6"
  },
  "vscode": {
   "interpreter": {
    "hash": "916dbcbb3f70747c44a77c7bcd40155683ae19c65e1c03b4aa3499c5328201f1"
   }
  }
 },
 "nbformat": 4,
 "nbformat_minor": 2
}
