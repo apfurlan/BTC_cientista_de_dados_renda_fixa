{
 "cells": [
  {
   "cell_type": "code",
   "execution_count": 1,
   "metadata": {},
   "outputs": [],
   "source": [
    "import handcalcs.render as render\n",
    "from handcalcs import handcalc"
   ]
  },
  {
   "cell_type": "code",
   "execution_count": 2,
   "metadata": {},
   "outputs": [],
   "source": [
    "@handcalc(jupyter_display=True, precision= 5)\n",
    "def taxas_equivalentes(i1, n1, n2): \n",
    "    i2 = (1 + i1/100)**(n1/n2) - 1\n",
    "    return i2*100"
   ]
  },
  {
   "cell_type": "code",
   "execution_count": 3,
   "metadata": {},
   "outputs": [],
   "source": [
    "def montante(list_rent, P):\n",
    "    M = P\n",
    "    for i in list_rent:\n",
    "        M *= (1+i/100)\n",
    "    return M"
   ]
  },
  {
   "cell_type": "code",
   "execution_count": 4,
   "metadata": {},
   "outputs": [],
   "source": [
    "def taxa_ac(list_rent):\n",
    "    import numpy as np\n",
    "    list_fat = [1 + x/100 for x in list_rent]\n",
    "    i_ac = (np.prod(list_fat) - 1)\n",
    "    return i_ac*100"
   ]
  },
  {
   "cell_type": "code",
   "execution_count": 5,
   "metadata": {},
   "outputs": [],
   "source": [
    "def taxa_media(list_rent):\n",
    "    import numpy as np\n",
    "    list_fat = [1 + x/100 for x in list_rent]\n",
    "    i_m = ((np.prod(list_fat))**(1/len(list_fat)) - 1)\n",
    "    return i_m*100"
   ]
  },
  {
   "cell_type": "markdown",
   "metadata": {},
   "source": [
    "# Produtos do mercado Financeiro"
   ]
  },
  {
   "cell_type": "markdown",
   "metadata": {},
   "source": [
    "# Títulos de captação bancária"
   ]
  },
  {
   "cell_type": "markdown",
   "metadata": {},
   "source": [
    "# Caderneta de poupança"
   ]
  },
  {
   "cell_type": "markdown",
   "metadata": {},
   "source": [
    "- Selic $>$ 8,5% :  TR + 0,5% a.m.\n",
    "- Selic $\\leq$ 8,5% :  TR + 70% da meta Selic ao ano"
   ]
  },
  {
   "cell_type": "code",
   "execution_count": 6,
   "metadata": {},
   "outputs": [],
   "source": [
    "def poup(P, list_tr, list_selic):\n",
    "    import numpy as np\n",
    "    list_rent = []\n",
    "    for tr, selic in zip(list_tr, list_selic):\n",
    "        if selic > 8.5:\n",
    "            i = (1 +tr/100)*(1 + 0.5/100) - 1 # a.m.\n",
    "        else:\n",
    "           i = (1 + tr/100)*(1 + 0.7*selic/100)**(1/12) - 1 # a.m.\n",
    "        list_rent.append(1 + i)\n",
    "    M = P*np.prod(list_rent)\n",
    "    rent_acum_per = 100*(M/P - 1)\n",
    "    return M, rent_acum_per    "
   ]
  },
  {
   "cell_type": "markdown",
   "metadata": {},
   "source": [
    "# Exemplo 1"
   ]
  },
  {
   "cell_type": "markdown",
   "metadata": {},
   "source": [
    "Um indíviduo deixa uma quantia de R$ 10.000,00 investida por 4 meses na poupança. As taxas referenciais no período foram:\n",
    "- Mês 1 : 0,022%\n",
    "- Mês 2 : 0,0194%\n",
    "- Mês 3 : 0,0083%\n",
    "- Mês 4 : 0,00 %\n",
    "\n",
    "E as metas Selic do período foram:\n",
    "\n",
    "- Mês 1 : 9,5% a.a.\n",
    "- Mês 2 : 8,5% a.a.\n",
    "- Mês 3 : 8,5% a.a.\n",
    "- Mês 4 : 8,0% a.a.\n",
    "\n",
    "Determine o montante e a rentabilidade efetiva calculada no período."
   ]
  },
  {
   "cell_type": "code",
   "execution_count": 7,
   "metadata": {},
   "outputs": [
    {
     "name": "stdout",
     "output_type": "stream",
     "text": [
      "O montante é dado por 10198.525183095144 reais\n",
      "A rentabilidade é dada por 1.98525183095144 % a.p.\n"
     ]
    }
   ],
   "source": [
    "P = 10_000 # reais\n",
    "list_tr = [0.022, 0.0194, 0.0083, 0.00]\n",
    "list_selic = [9.5, 8.5, 8.5, 8.0]\n",
    "M, i_efp = poup(P, list_tr, list_selic)\n",
    "print(f'O montante é dado por {M} reais')\n",
    "print(f'A rentabilidade é dada por {i_efp} % a.p.')"
   ]
  },
  {
   "cell_type": "markdown",
   "metadata": {},
   "source": [
    "## Certificado de depósito interbancário (CDI)"
   ]
  },
  {
   "cell_type": "markdown",
   "metadata": {},
   "source": [
    "# Exemplo 2"
   ]
  },
  {
   "cell_type": "markdown",
   "metadata": {},
   "source": [
    "Uma operação interbancária, lastreada em CDI, foi realizada por três dias úteis considerando as seguintes taxas over:\n",
    "\n",
    "1º dia 11,36 % a.a.o.\n",
    "\n",
    "2º dia 11,21% a.a.o.\n",
    "\n",
    "3º dia 10,22% a.a.o.\n",
    "\n",
    "O principal envolvido foi de $ 15.000.000,00. Determine:"
   ]
  },
  {
   "cell_type": "markdown",
   "metadata": {},
   "source": [
    "a) O montante da operação"
   ]
  },
  {
   "cell_type": "code",
   "execution_count": 8,
   "metadata": {},
   "outputs": [
    {
     "data": {
      "text/latex": [
       "\\[\n",
       "\\begin{aligned}\n",
       "\\mathrm{i2} &= \\left( 1 + \\frac{ \\mathrm{i1} }{ 100 } \\right) ^{ \\left( \\frac{ \\mathrm{n1} }{ \\mathrm{n2} } \\right) } - 1  = \\left( 1 + \\frac{ 11.36000 }{ 100 } \\right) ^{ \\left( \\frac{ 1 }{ 252 } \\right) } - 1 &= 0.00043  \n",
       "\\end{aligned}\n",
       "\\]"
      ],
      "text/plain": [
       "<IPython.core.display.Latex object>"
      ]
     },
     "metadata": {},
     "output_type": "display_data"
    },
    {
     "data": {
      "text/latex": [
       "\\[\n",
       "\\begin{aligned}\n",
       "\\mathrm{i2} &= \\left( 1 + \\frac{ \\mathrm{i1} }{ 100 } \\right) ^{ \\left( \\frac{ \\mathrm{n1} }{ \\mathrm{n2} } \\right) } - 1  = \\left( 1 + \\frac{ 11.21000 }{ 100 } \\right) ^{ \\left( \\frac{ 1 }{ 252 } \\right) } - 1 &= 0.00042  \n",
       "\\end{aligned}\n",
       "\\]"
      ],
      "text/plain": [
       "<IPython.core.display.Latex object>"
      ]
     },
     "metadata": {},
     "output_type": "display_data"
    },
    {
     "data": {
      "text/latex": [
       "\\[\n",
       "\\begin{aligned}\n",
       "\\mathrm{i2} &= \\left( 1 + \\frac{ \\mathrm{i1} }{ 100 } \\right) ^{ \\left( \\frac{ \\mathrm{n1} }{ \\mathrm{n2} } \\right) } - 1  = \\left( 1 + \\frac{ 10.22000 }{ 100 } \\right) ^{ \\left( \\frac{ 1 }{ 252 } \\right) } - 1 &= 0.00039  \n",
       "\\end{aligned}\n",
       "\\]"
      ],
      "text/plain": [
       "<IPython.core.display.Latex object>"
      ]
     },
     "metadata": {},
     "output_type": "display_data"
    },
    {
     "name": "stdout",
     "output_type": "stream",
     "text": [
      "O montante é 15018532.648315562\n"
     ]
    }
   ],
   "source": [
    "P = 15_000_000 # reais\n",
    "lista_taxas_over = [11.36, 11.21, 10.22]\n",
    "n1 = 1 # ano\n",
    "n2 = 252 # dias úteis\n",
    "lista_taxas_dia = [taxas_equivalentes(i1, n1, n2) for i1 in lista_taxas_over]\n",
    "M = montante(lista_taxas_dia, P)\n",
    "print(f'O montante é {M}')"
   ]
  },
  {
   "cell_type": "markdown",
   "metadata": {},
   "source": [
    "b) A taxa efetiva da operação no período"
   ]
  },
  {
   "cell_type": "code",
   "execution_count": null,
   "metadata": {},
   "outputs": [],
   "source": [
    "taxa_efetiva = 100*(M/P - 1)\n",
    "print(f' A taxa efetiva ao período é {round(taxa_efetiva,4)} %a.p.')"
   ]
  },
  {
   "cell_type": "markdown",
   "metadata": {},
   "source": [
    "c) A taxa over ao ano média da operação"
   ]
  },
  {
   "cell_type": "code",
   "execution_count": null,
   "metadata": {},
   "outputs": [],
   "source": [
    "taxa_over_media = taxa_media(lista_taxas_over)\n",
    "print(f' A taxa over ao ano média da operação é {round(taxa_over_media,4)} % a.a.o.')"
   ]
  },
  {
   "cell_type": "markdown",
   "metadata": {},
   "source": [
    "Referência Bibliográfica : José Roberto Securato. Cálculo financeiro das tesourarias; Bancos e empresas. Saint Paul Editora LTDA"
   ]
  }
 ],
 "metadata": {
  "kernelspec": {
   "display_name": "Python 3 (ipykernel)",
   "language": "python",
   "name": "python3"
  },
  "language_info": {
   "codemirror_mode": {
    "name": "ipython",
    "version": 3
   },
   "file_extension": ".py",
   "mimetype": "text/x-python",
   "name": "python",
   "nbconvert_exporter": "python",
   "pygments_lexer": "ipython3",
   "version": "3.8.10"
  },
  "vscode": {
   "interpreter": {
    "hash": "bce320103a4f9599bf42cb45744b1f3acee8930c6f7dcdff248089a2e65863cd"
   }
  }
 },
 "nbformat": 4,
 "nbformat_minor": 2
}
