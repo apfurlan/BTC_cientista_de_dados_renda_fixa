{
 "cells": [
  {
   "cell_type": "markdown",
   "metadata": {},
   "source": [
    "# CRI"
   ]
  },
  {
   "cell_type": "markdown",
   "metadata": {},
   "source": [
    "# Exemplo 1"
   ]
  },
  {
   "cell_type": "markdown",
   "metadata": {},
   "source": [
    "Um investidor comprou cinco CRIs (Certificado de Recebíveis Imobiliários) emitidas por uma securitizadora. O valor da emissão foi de R $ 270.000.000,00, composta por 900 CRIs, pelo prazo de dez anos, com valores não atualizados. O título é prefixado e rende 9,5% ao ano, com pagamento semestral de juros e o principal na data de vencimento. Pede-se (base 360 dias):"
   ]
  },
  {
   "cell_type": "markdown",
   "metadata": {},
   "source": [
    "a) Quanto foi o valor investido em CRIs"
   ]
  },
  {
   "cell_type": "code",
   "execution_count": 1,
   "metadata": {},
   "outputs": [
    {
     "name": "stdout",
     "output_type": "stream",
     "text": [
      "O valor investido em CRIs foi de R$ 1500000.0\n"
     ]
    }
   ],
   "source": [
    "qtd = 5 # CRIs\n",
    "valor_unit = 270_000_000/900\n",
    "P = valor_unit*qtd\n",
    "print(f'O valor investido em CRIs foi de R$ {P}')"
   ]
  },
  {
   "cell_type": "markdown",
   "metadata": {},
   "source": [
    "b) Juros do primeiro semestre"
   ]
  },
  {
   "cell_type": "code",
   "execution_count": 2,
   "metadata": {},
   "outputs": [
    {
     "name": "stdout",
     "output_type": "stream",
     "text": [
      " Juros do primeiro semestre: R$ 69633.71523422608\n"
     ]
    }
   ],
   "source": [
    "taxa = 9.5 #% a.a.\n",
    "M1 = P*(1 + taxa/100)**(180/360)\n",
    "J1 = M1 - P\n",
    "print(f' Juros do primeiro semestre: R$ {J1}')"
   ]
  },
  {
   "cell_type": "markdown",
   "metadata": {},
   "source": [
    "c) Taxa efetiva desse período"
   ]
  },
  {
   "cell_type": "code",
   "execution_count": 3,
   "metadata": {},
   "outputs": [
    {
     "name": "stdout",
     "output_type": "stream",
     "text": [
      "A taxa efetiva ao período é 4.642247682281742% a.p.\n"
     ]
    }
   ],
   "source": [
    "taxa_efetiva =100*(M1/P - 1)\n",
    "print(f'A taxa efetiva ao período é {taxa_efetiva}% a.p.')"
   ]
  },
  {
   "cell_type": "markdown",
   "metadata": {},
   "source": [
    "d) O montante líquido ao final do período"
   ]
  },
  {
   "cell_type": "code",
   "execution_count": 4,
   "metadata": {},
   "outputs": [
    {
     "name": "stdout",
     "output_type": "stream",
     "text": [
      "O montante líquido ao final do primeiro semestre é de R$ 1569633.715234226\n"
     ]
    }
   ],
   "source": [
    "montante_liquido = P + J1 # = M1\n",
    "print(f'O montante líquido ao final do primeiro semestre é de R$ {montante_liquido}')"
   ]
  },
  {
   "cell_type": "markdown",
   "metadata": {},
   "source": [
    "# LCI"
   ]
  },
  {
   "cell_type": "markdown",
   "metadata": {},
   "source": [
    "# Exemplo 2"
   ]
  },
  {
   "cell_type": "markdown",
   "metadata": {},
   "source": [
    "Um empresário compra uma LCI em sua emissão pelo valor de R$ 50.000,00. Pelo prazo de um ano, o papel apresenta remuneração pós-fixada indexada a 90% do CDI. O CDI do período é de 10%. Determine:"
   ]
  },
  {
   "cell_type": "markdown",
   "metadata": {},
   "source": [
    "a) Taxa efetiva do período"
   ]
  },
  {
   "cell_type": "code",
   "execution_count": 5,
   "metadata": {},
   "outputs": [
    {
     "name": "stdout",
     "output_type": "stream",
     "text": [
      " A taxa efetiva no período é 9.0 % a.p.\n"
     ]
    }
   ],
   "source": [
    "cdi_p = 10/100\n",
    "taxa_efetiva_p = (90/100)*cdi_p\n",
    "print(f' A taxa efetiva no período é {round(100*taxa_efetiva_p,2)} % a.p.')"
   ]
  },
  {
   "cell_type": "markdown",
   "metadata": {},
   "source": [
    "b) Montante no vencimento"
   ]
  },
  {
   "cell_type": "code",
   "execution_count": 6,
   "metadata": {},
   "outputs": [
    {
     "name": "stdout",
     "output_type": "stream",
     "text": [
      "O montante é R$54500.00000000001\n"
     ]
    }
   ],
   "source": [
    "P = 50_000 # reais\n",
    "M = P*(1 + taxa_efetiva_p)\n",
    "print(f'O montante é R${M}')"
   ]
  },
  {
   "cell_type": "markdown",
   "metadata": {},
   "source": [
    "Considerando que a alternativa do investidor era aplicar em um CDB, a 103% do CDI de prazo igual, pergunta-se: qual a melhor alternativa de investimento?\n",
    "Nota: Considere 17.5% de Imposto de renda no período "
   ]
  },
  {
   "cell_type": "code",
   "execution_count": 7,
   "metadata": {},
   "outputs": [
    {
     "name": "stdout",
     "output_type": "stream",
     "text": [
      "O montante bruto é R$55150.0\n"
     ]
    }
   ],
   "source": [
    "taxa_efetiva_p_cdb = (103/100)*cdi_p\n",
    "M_cdb = P*(1 + taxa_efetiva_p_cdb)\n",
    "print(f'O montante bruto é R${M_cdb}')"
   ]
  },
  {
   "cell_type": "code",
   "execution_count": 8,
   "metadata": {},
   "outputs": [
    {
     "name": "stdout",
     "output_type": "stream",
     "text": [
      "O montante líquido é 54248.75\n"
     ]
    }
   ],
   "source": [
    "rendimento_bruto = M_cdb - P\n",
    "imposto = (17.5/100)*rendimento_bruto\n",
    "ML_cdb = M_cdb - imposto\n",
    "print(f'O montante líquido é {ML_cdb}')"
   ]
  },
  {
   "cell_type": "markdown",
   "metadata": {},
   "source": [
    "# LCA"
   ]
  },
  {
   "cell_type": "markdown",
   "metadata": {},
   "source": [
    "# Exemplo 3"
   ]
  },
  {
   "cell_type": "markdown",
   "metadata": {},
   "source": [
    "Com o objetivo de financiar o agronegócio, uma instituição financeira emite LCA. Um investidor (pessoa física) aplica R $ 580.000,00 nesse título que tem como características:\n",
    "- Isenção de impostos\n",
    "- Rentabilidade: 7,49% a.a.\n",
    "- Prazo: 15 meses\n",
    "\n",
    "- Determine, do ponto de vista do investidor:"
   ]
  },
  {
   "cell_type": "markdown",
   "metadata": {},
   "source": [
    "a) O montante a receber no final do período e a rentabilidade efetiva"
   ]
  },
  {
   "cell_type": "code",
   "execution_count": 9,
   "metadata": {},
   "outputs": [
    {
     "name": "stdout",
     "output_type": "stream",
     "text": [
      "O montante a receber é de R$634801.6869098026\n",
      " A rentabilidade efetiva é 9.448566708586647 % a.p.\n"
     ]
    }
   ],
   "source": [
    "taxa = 7.49/100 # a.a.\n",
    "P = 580_000 # reais\n",
    "M = P*(1 + taxa)**(15/12)\n",
    "print(f'O montante a receber é de R${M}')\n",
    "rentabilidade_efetiva = 100*(M/P - 1)\n",
    "print(f' A rentabilidade efetiva é {rentabilidade_efetiva} % a.p.')"
   ]
  },
  {
   "cell_type": "markdown",
   "metadata": {},
   "source": [
    "b) Comparação com uma aplicação de CDB que tenha a mesma rentabilidade (imposto 17.5%)"
   ]
  },
  {
   "cell_type": "code",
   "execution_count": 10,
   "metadata": {},
   "outputs": [
    {
     "name": "stdout",
     "output_type": "stream",
     "text": [
      "O montante liquido do cdb é de R$625211.3917005871\n",
      " A rentabilidade efetiva do cdb é 7.795067534583988 % a.p.\n"
     ]
    }
   ],
   "source": [
    "rendimento_bruto = M - P\n",
    "imposto = (17.5/100)*rendimento_bruto\n",
    "ML_cdb = M - imposto\n",
    "print(f'O montante liquido do cdb é de R${ML_cdb}')\n",
    "rentabilidade_cdb = 100*(ML_cdb/P - 1)\n",
    "print(f' A rentabilidade efetiva do cdb é {rentabilidade_cdb} % a.p.')"
   ]
  },
  {
   "cell_type": "markdown",
   "metadata": {},
   "source": [
    "c) Se a rentabilidade fosse pós-fixada, atrelada a 90% do CDI, qual seria o montante após três meses?\n",
    "CDI Acumulado\n",
    "\n",
    "Mês 1 : 0.5866 % a.m.\n",
    "\n",
    "Mês 2 : 0.4815 % a.m.\n",
    "\n",
    "Mês 3 : 0.5377 % a.m.\n"
   ]
  },
  {
   "cell_type": "code",
   "execution_count": 11,
   "metadata": {},
   "outputs": [
    {
     "name": "stdout",
     "output_type": "stream",
     "text": [
      "O montante após três meses é de R$ 588422.5910470034\n"
     ]
    }
   ],
   "source": [
    "M = P*(1 + 0.9*0.5866/100)*(1 + 0.9*0.4815/100)*(1 + 0.9*0.5377/100)\n",
    "print(f'O montante após três meses é de R$ {M}')"
   ]
  },
  {
   "cell_type": "markdown",
   "metadata": {},
   "source": [
    "Referência Bibliográfica :\n",
    "[1] José Roberto Securato. Cálculo financeiro das tesourarias; Bancos e empresas. Saint Paul Editora LTDA"
   ]
  },
  {
   "cell_type": "markdown",
   "metadata": {},
   "source": []
  }
 ],
 "metadata": {
  "kernelspec": {
   "display_name": "Python 3 (ipykernel)",
   "language": "python",
   "name": "python3"
  },
  "language_info": {
   "codemirror_mode": {
    "name": "ipython",
    "version": 3
   },
   "file_extension": ".py",
   "mimetype": "text/x-python",
   "name": "python",
   "nbconvert_exporter": "python",
   "pygments_lexer": "ipython3",
   "version": "3.8.10"
  },
  "vscode": {
   "interpreter": {
    "hash": "bce320103a4f9599bf42cb45744b1f3acee8930c6f7dcdff248089a2e65863cd"
   }
  }
 },
 "nbformat": 4,
 "nbformat_minor": 2
}
