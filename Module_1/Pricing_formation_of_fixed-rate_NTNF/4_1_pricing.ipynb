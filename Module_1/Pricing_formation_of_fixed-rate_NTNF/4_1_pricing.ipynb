{
 "cells": [
  {
   "cell_type": "code",
   "execution_count": 1,
   "metadata": {},
   "outputs": [],
   "source": [
    "import numpy as np"
   ]
  },
  {
   "cell_type": "markdown",
   "metadata": {},
   "source": [
    "# *Tesouro Prefixado* with half-yearly interests (NTN-F) "
   ]
  },
  {
   "cell_type": "markdown",
   "metadata": {},
   "source": [
    "$$V_{P} = \\frac{cp}{(1 + \\frac{i}{100})^{\\frac{du_1}{252}}} + \\frac{cp}{(1 + \\frac{i}{100})^{\\frac{du_2}{252}}} + ... + \\frac{cp + VF}{(1 + \\frac{i}{100})^{\\frac{du_N}{252}}}$$"
   ]
  },
  {
   "cell_type": "markdown",
   "metadata": {},
   "source": [
    "$$ cp =VF*[(1 + tx_{cp}/100)^{1/2} - 1] $$\n",
    "\n",
    "$tx_{cp} = 10 $% p.y.\n",
    "\n",
    "$ VF = 1000$ R$"
   ]
  },
  {
   "cell_type": "code",
   "execution_count": 2,
   "metadata": {},
   "outputs": [
    {
     "data": {
      "text/plain": [
       "0.04880884817015163"
      ]
     },
     "execution_count": 2,
     "metadata": {},
     "output_type": "execute_result"
    }
   ],
   "source": [
    "tx_cp = 10/100\n",
    "tx_s = (1 + tx_cp)**(1/2) - 1\n",
    "tx_s "
   ]
  },
  {
   "cell_type": "code",
   "execution_count": 3,
   "metadata": {},
   "outputs": [],
   "source": [
    "def vp(taxa, list_du):\n",
    "    vf = 1_000 # reais\n",
    "    tx_c = 10 # % a.a.\n",
    "    list_num = len(list_du)*[vf*((1 + tx_c/100)**(1/2) - 1)]\n",
    "    list_num[-1] += vf\n",
    "    list_vp = []\n",
    "    for du, num in zip(list_du, list_num):\n",
    "        temp_vp = num/(1 + taxa/100)**(du/252)\n",
    "        list_vp.append(temp_vp)\n",
    "    vp = np.sum(list_vp)\n",
    "    return vp"
   ]
  },
  {
   "cell_type": "markdown",
   "metadata": {},
   "source": [
    "# Example 1"
   ]
  },
  {
   "cell_type": "markdown",
   "metadata": {},
   "source": [
    "What is the present value of an NTN-F with a rate of 11% p.y. and payments at intervals of 120, 240, 360, and 480 business days from today?"
   ]
  },
  {
   "cell_type": "code",
   "execution_count": 5,
   "metadata": {},
   "outputs": [
    {
     "name": "stdout",
     "output_type": "stream",
     "text": [
      "992.4216114430419\n"
     ]
    }
   ],
   "source": [
    "tx = 11\n",
    "list_du = [120, 240, 360, 480]\n",
    "v_p = vp(tx, list_du)\n",
    "print(v_p)"
   ]
  },
  {
   "cell_type": "markdown",
   "metadata": {},
   "source": [
    "# Example 2"
   ]
  },
  {
   "cell_type": "markdown",
   "metadata": {},
   "source": [
    "\n",
    "What is the present value of an NTN-F with a rate of 15% p.y. and payments at intervals of 122, 250, 374, 501, 625, 750, 874 and 1000 business days from today?"
   ]
  },
  {
   "cell_type": "code",
   "execution_count": 5,
   "metadata": {},
   "outputs": [
    {
     "name": "stdout",
     "output_type": "stream",
     "text": [
      "863.8354466031728\n"
     ]
    }
   ],
   "source": [
    "#Exemplo2 NTN-F Apostila Tesouro Direto\n",
    "tx = 15.00\n",
    "list_du = [122, 250, 374, 501, 625, 750, 874, 1000]\n",
    "v_p = vp(tx, list_du)\n",
    "print(v_p)"
   ]
  },
  {
   "cell_type": "code",
   "execution_count": null,
   "metadata": {},
   "outputs": [],
   "source": []
  }
 ],
 "metadata": {
  "kernelspec": {
   "display_name": "Python 3.10.6 64-bit",
   "language": "python",
   "name": "python3"
  },
  "language_info": {
   "codemirror_mode": {
    "name": "ipython",
    "version": 3
   },
   "file_extension": ".py",
   "mimetype": "text/x-python",
   "name": "python",
   "nbconvert_exporter": "python",
   "pygments_lexer": "ipython3",
   "version": "3.10.6"
  },
  "vscode": {
   "interpreter": {
    "hash": "916dbcbb3f70747c44a77c7bcd40155683ae19c65e1c03b4aa3499c5328201f1"
   }
  }
 },
 "nbformat": 4,
 "nbformat_minor": 2
}
