{
 "cells": [
  {
   "cell_type": "code",
   "execution_count": 1,
   "metadata": {},
   "outputs": [],
   "source": [
    "import numpy as np"
   ]
  },
  {
   "cell_type": "markdown",
   "metadata": {},
   "source": [
    "# *Tesouro Prefixado* **with half-yearly interests (NTN-F)** "
   ]
  },
  {
   "cell_type": "markdown",
   "metadata": {},
   "source": [
    "$$V_{P} = \\frac{cp}{(1 + \\frac{i}{100})^{\\frac{du_1}{252}}} + \\frac{cp}{(1 + \\frac{i}{100})^{\\frac{du_2}{252}}} + ... + \\frac{cp + VF}{(1 + \\frac{i}{100})^{\\frac{du_N}{252}}}$$"
   ]
  },
  {
   "cell_type": "markdown",
   "metadata": {},
   "source": [
    "$$ cp =VF*[(1 + tx_{cp}/100)^{1/2} - 1] $$\n",
    "\n",
    "$tx_{cp} = 10 $% a.a.\n",
    "\n",
    "$ VF = 1000$ R$"
   ]
  },
  {
   "cell_type": "code",
   "execution_count": 2,
   "metadata": {},
   "outputs": [
    {
     "data": {
      "text/plain": [
       "0.04880884817015163"
      ]
     },
     "execution_count": 2,
     "metadata": {},
     "output_type": "execute_result"
    }
   ],
   "source": [
    "tx_cp = 10/100\n",
    "tx_s = (1 + tx_cp)**(1/2) - 1\n",
    "tx_s "
   ]
  },
  {
   "cell_type": "code",
   "execution_count": 3,
   "metadata": {},
   "outputs": [],
   "source": [
    "def vp(taxa, list_du):\n",
    "    vf = 1_000 # reais\n",
    "    tx_c = 10 # % a.a.\n",
    "    list_num = len(list_du)*[vf*((1 + tx_c/100)**(1/2) - 1)]\n",
    "    list_num[-1] += vf\n",
    "    list_vp = []\n",
    "    for du, num in zip(list_du, list_num):\n",
    "        temp_vp = num/(1 + taxa/100)**(du/252)\n",
    "        list_vp.append(temp_vp)\n",
    "    vp = np.sum(list_vp)\n",
    "    return vp"
   ]
  },
  {
   "cell_type": "code",
   "execution_count": 10,
   "metadata": {},
   "outputs": [],
   "source": [
    "def venda_antecipada(list_du, pv_compra, tx_venda, du_venda, tipo='r'):\n",
    "        vf = 1_000\n",
    "        tx_c = 10\n",
    "        list_num = len(list_du)*[vf*((1 + tx_c/100)**(1/2) - 1)]\n",
    "        list_num[-1] += vf\n",
    "        list_pv = []\n",
    "        list_cup = []\n",
    "        for du, num in zip(list_du, list_num):\n",
    "            if du_venda < du:\n",
    "                temp_pv = num/(1 + tx_venda/100)**((du - du_venda)/252)\n",
    "                list_pv.append(temp_pv)\n",
    "            else:\n",
    "                list_cup.append(num*(1 + tx_venda/100)**((du_venda - du)/252) if tipo == 'r' else num)\n",
    "        pv_venda = np.sum(list_pv)\n",
    "        valor_bruto_resgate = np.sum(list_cup) + pv_venda\n",
    "        rb = valor_bruto_resgate/pv_compra - 1\n",
    "        rba = (1 + rb)**(252/du_venda) - 1 \n",
    "        \n",
    "        return pv_venda, rb*100, rba*100"
   ]
  },
  {
   "cell_type": "code",
   "execution_count": 6,
   "metadata": {},
   "outputs": [],
   "source": [
    "vf = 1_000\n",
    "tx_c = 10\n",
    "list_num = 4*[vf*((1 + tx_c/100)**(1/2) - 1)]"
   ]
  },
  {
   "cell_type": "code",
   "execution_count": 5,
   "metadata": {},
   "outputs": [
    {
     "data": {
      "text/plain": [
       "[48.808848170151634,\n",
       " 48.808848170151634,\n",
       " 48.808848170151634,\n",
       " 48.808848170151634]"
      ]
     },
     "execution_count": 5,
     "metadata": {},
     "output_type": "execute_result"
    }
   ],
   "source": [
    "list_num"
   ]
  },
  {
   "cell_type": "code",
   "execution_count": 7,
   "metadata": {},
   "outputs": [
    {
     "data": {
      "text/plain": [
       "[48.808848170151634,\n",
       " 48.808848170151634,\n",
       " 48.808848170151634,\n",
       " 1048.8088481701516]"
      ]
     },
     "execution_count": 7,
     "metadata": {},
     "output_type": "execute_result"
    }
   ],
   "source": [
    "list_num[-1] += vf\n",
    "list_num"
   ]
  },
  {
   "cell_type": "markdown",
   "metadata": {},
   "source": [
    "# Exemplo 1"
   ]
  },
  {
   "cell_type": "markdown",
   "metadata": {},
   "source": [
    "Qual é o valor presente de um título pré com pagamentos de cupom com intervalos de 120, 248, 372 e 499 dias úteis em relação à data de hoje?"
   ]
  },
  {
   "cell_type": "code",
   "execution_count": 8,
   "metadata": {},
   "outputs": [
    {
     "name": "stdout",
     "output_type": "stream",
     "text": [
      "953.75\n"
     ]
    }
   ],
   "source": [
    "tx = 12.98\n",
    "list_du = [120, 248, 372, 499]\n",
    "v_p = vp(tx, list_du)\n",
    "print(np.round(v_p,2))"
   ]
  },
  {
   "cell_type": "markdown",
   "metadata": {},
   "source": [
    "# Exemplo 2"
   ]
  },
  {
   "cell_type": "markdown",
   "metadata": {},
   "source": [
    "Suponha que o investidor do exemplo anterior tenha vendido o título depois de 248 dias úteis, recebendo dois cupons, um depois de 120 dias úteis e outro depois de 248 dias úteis que é quando ele vende o título, qual é a rentabilidade bruta ao período, supondo que ele reinvestiu o valor do primeiro cupom à mesma taxa em que comprou o título?"
   ]
  },
  {
   "cell_type": "code",
   "execution_count": 11,
   "metadata": {},
   "outputs": [
    {
     "name": "stdout",
     "output_type": "stream",
     "text": [
      "974.73 12.76 12.98\n"
     ]
    }
   ],
   "source": [
    "list_du = [120, 248, 372, 499] # dias úteis em relação a data de compra\n",
    "du_venda = 248\n",
    "tx_venda = 12.98\n",
    "valp, rent, rba = venda_antecipada(list_du, v_p, tx_venda, du_venda, tipo='r')\n",
    "print(np.round(valp,2), np.round(rent,2), np.round(rba,2))\n"
   ]
  },
  {
   "cell_type": "code",
   "execution_count": null,
   "metadata": {},
   "outputs": [],
   "source": []
  }
 ],
 "metadata": {
  "kernelspec": {
   "display_name": "Python 3.10.6 64-bit",
   "language": "python",
   "name": "python3"
  },
  "language_info": {
   "codemirror_mode": {
    "name": "ipython",
    "version": 3
   },
   "file_extension": ".py",
   "mimetype": "text/x-python",
   "name": "python",
   "nbconvert_exporter": "python",
   "pygments_lexer": "ipython3",
   "version": "3.10.6"
  },
  "vscode": {
   "interpreter": {
    "hash": "916dbcbb3f70747c44a77c7bcd40155683ae19c65e1c03b4aa3499c5328201f1"
   }
  }
 },
 "nbformat": 4,
 "nbformat_minor": 2
}
