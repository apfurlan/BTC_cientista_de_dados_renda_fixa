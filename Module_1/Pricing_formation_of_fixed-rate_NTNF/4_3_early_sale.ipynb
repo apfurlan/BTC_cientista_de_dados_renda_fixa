{
 "cells": [
  {
   "cell_type": "markdown",
   "metadata": {},
   "source": [
    "# *Tesouro Prefixado* **with half-yearly interests (NTN-F)** \n",
    "\n",
    "$$V_{P} = \\frac{cp}{(1 + \\frac{i}{100})^{\\frac{du_1}{252}}} + \\frac{cp}{(1 + \\frac{i}{100})^{\\frac{du_2}{252}}} + ... + \\frac{cp + VF}{(1 + \\frac{i}{100})^{\\frac{du_N}{252}}}$$\n",
    "\n",
    "$$ cp =VF*[(1 + tx_{cp}/100)^{1/2} - 1] $$\n",
    "\n",
    "$tx_{cp} = 10 $% a.a.\n",
    "\n",
    "$ VF = 1000$ R$"
   ]
  },
  {
   "cell_type": "code",
   "execution_count": 1,
   "metadata": {},
   "outputs": [],
   "source": [
    "import numpy as np\n",
    "\n",
    "# interesting link https://www.tesourodireto.com.br/conheca/regras.htm\n",
    "class titulo_pre_cupom(object):\n",
    "    def __init__(self):\n",
    "        self.vf = 1_000 # face value, the amount that will be received at maturity for each security purchased\n",
    "        self.tx_c = 10\n",
    "\n",
    "    def get_pv(self, list_du, tx):\n",
    "        list_num = len(list_du)*[self.vf*((1 + self.tx_c/100)**(1/2) - 1)]\n",
    "        list_num[-1] += self.vf\n",
    "        list_pv = []\n",
    "        for du, num in zip(list_du, list_num):\n",
    "            temp_pv = num/(1 + tx/100)**(du/252)\n",
    "            list_pv.append(temp_pv)\n",
    "        pv = np.sum(list_pv)\n",
    "        return pv, list_pv\n",
    " \n",
    "    def venda_antecipada(self, list_du, tx_compra, tx_venda, du_venda, tipo='r'):\n",
    "        list_num = len(list_du)*[self.vf*((1 + self.tx_c/100)**(1/2) - 1)]\n",
    "        list_num[-1] += self.vf\n",
    "        list_pv = []\n",
    "        list_cup = []\n",
    "        pv_compra,_ = titulo_pre_cupom().get_pv(list_du, tx_compra)\n",
    "        for du, num in zip(list_du, list_num):\n",
    "            if du_venda < du:\n",
    "                temp_pv = num/(1 + tx_venda/100)**((du - du_venda)/252)\n",
    "                list_pv.append(temp_pv)\n",
    "            else:\n",
    "                list_cup.append(num*(1 + tx_venda/100)**((du_venda - du)/252) if tipo == 'r' else num)\n",
    "        pv_venda = np.sum(list_pv)\n",
    "        valor_bruto_resgate = np.sum(list_cup) + pv_venda\n",
    "        rb = valor_bruto_resgate/pv_compra - 1\n",
    "        rba = (1 + rb)**(252/du_venda) - 1 \n",
    "        \n",
    "        return pv_venda, rba*100"
   ]
  },
  {
   "cell_type": "markdown",
   "metadata": {},
   "source": [
    "## **Example 1**"
   ]
  },
  {
   "cell_type": "code",
   "execution_count": 4,
   "metadata": {},
   "outputs": [],
   "source": [
    "tx = 9.87\n",
    "list_du = [64, 187, 317, 439, 570, 692, 820, 944, 1071, 1195, 1320, 1444, 1570, 1693, 1823, 1946, 2074, 2197, 2325, 2449, 2576]\n",
    "tit = titulo_pre_cupom()\n",
    "pv, lista = tit.get_pv(list_du, tx)"
   ]
  },
  {
   "cell_type": "code",
   "execution_count": 5,
   "metadata": {},
   "outputs": [
    {
     "data": {
      "text/plain": [
       "[47.65588719394776,\n",
       " 45.51595433789959,\n",
       " 43.35859649880499,\n",
       " 41.42709960671666,\n",
       " 39.448806874482834,\n",
       " 37.691479515495175,\n",
       " 35.931817526710866,\n",
       " 34.30552427004203,\n",
       " 32.716156707821995,\n",
       " 31.23540597767872,\n",
       " 29.810537831040797,\n",
       " 28.46129696349343,\n",
       " 27.15283149440275,\n",
       " 25.933564795765125,\n",
       " 24.7043698877013,\n",
       " 23.59504854413868,\n",
       " 22.49349162516519,\n",
       " 21.483447229599967,\n",
       " 20.480472393803478,\n",
       " 19.55351527223079,\n",
       " 400.7013886731155]"
      ]
     },
     "execution_count": 5,
     "metadata": {},
     "output_type": "execute_result"
    }
   ],
   "source": [
    "lista"
   ]
  },
  {
   "cell_type": "markdown",
   "metadata": {},
   "source": [
    "# **Example 2**"
   ]
  },
  {
   "cell_type": "code",
   "execution_count": 6,
   "metadata": {},
   "outputs": [
    {
     "name": "stdout",
     "output_type": "stream",
     "text": [
      "953.7545412135244\n"
     ]
    }
   ],
   "source": [
    "tx = 12.98\n",
    "list_du = [120, 248, 372, 499]\n",
    "tit = titulo_pre_cupom()\n",
    "pv, list_pv = tit.get_pv(list_du, tx)\n",
    "\n",
    "print(pv)"
   ]
  },
  {
   "cell_type": "code",
   "execution_count": 11,
   "metadata": {},
   "outputs": [
    {
     "data": {
      "text/plain": [
       "953.7545412135244"
      ]
     },
     "execution_count": 11,
     "metadata": {},
     "output_type": "execute_result"
    }
   ],
   "source": [
    "np.sum(list_pv)"
   ]
  },
  {
   "cell_type": "markdown",
   "metadata": {},
   "source": [
    "## **Example 3**"
   ]
  },
  {
   "cell_type": "code",
   "execution_count": 13,
   "metadata": {},
   "outputs": [
    {
     "name": "stdout",
     "output_type": "stream",
     "text": [
      "889.3326021048624\n",
      "[45.80884954085998, 42.85932563656385, 40.18320135163156, 37.61545288083409, 35.266754541603824, 33.047520629198104, 30.984042699971212, 623.5674548241998]\n"
     ]
    }
   ],
   "source": [
    "tx = 14.00\n",
    "list_du = [122, 250, 374, 501, 625, 750, 874, 1000]\n",
    "tit = titulo_pre_cupom()\n",
    "pv, list_vp = tit.get_pv(list_du, tx)\n",
    "print(pv)\n",
    "print(list_vp)"
   ]
  },
  {
   "cell_type": "markdown",
   "metadata": {},
   "source": [
    "## **Example 4**"
   ]
  },
  {
   "cell_type": "code",
   "execution_count": 8,
   "metadata": {},
   "outputs": [
    {
     "name": "stdout",
     "output_type": "stream",
     "text": [
      "sell 966.2474844862911 , profitability 12.100210026107083\n"
     ]
    }
   ],
   "source": [
    "tx_compra = 12.98\n",
    "tx_venda = 14.00\n",
    "list_du = [120, 248, 372, 499]\n",
    "du_venda = 248 # number of working days passed since the date of purchase\n",
    "tit = titulo_pre_cupom()\n",
    "pv_venda, rba = tit.venda_antecipada(list_du, tx_compra, tx_venda, du_venda, tipo='r')\n",
    "print('sell', pv_venda, ', profitability', rba)\n",
    "\n",
    "#pv_compra,_ = tit.get_pv(list_du, tx_compra)\n"
   ]
  }
 ],
 "metadata": {
  "kernelspec": {
   "display_name": "Python 3.10.6 64-bit",
   "language": "python",
   "name": "python3"
  },
  "language_info": {
   "codemirror_mode": {
    "name": "ipython",
    "version": 3
   },
   "file_extension": ".py",
   "mimetype": "text/x-python",
   "name": "python",
   "nbconvert_exporter": "python",
   "pygments_lexer": "ipython3",
   "version": "3.10.6"
  },
  "vscode": {
   "interpreter": {
    "hash": "916dbcbb3f70747c44a77c7bcd40155683ae19c65e1c03b4aa3499c5328201f1"
   }
  }
 },
 "nbformat": 4,
 "nbformat_minor": 2
}
