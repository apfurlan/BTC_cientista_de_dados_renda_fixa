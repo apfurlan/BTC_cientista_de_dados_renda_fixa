{
 "cells": [
  {
   "cell_type": "markdown",
   "metadata": {},
   "source": [
    "# **Pricing - IPAC-indexed securities**"
   ]
  },
  {
   "cell_type": "code",
   "execution_count": 1,
   "metadata": {},
   "outputs": [],
   "source": [
    "import numpy as np\n",
    "\n",
    "# Sobre as taxas https://www.tesourodireto.com.br/conheca/regras.htm\n",
    "class titulo_ipca(object):\n",
    "    def __init__(self):\n",
    "        self.vf = 1_000 \n",
    "        self.tx_c = 10\n",
    "   \n",
    "    def get_pu(self, vna, ipca_p, du, dc1, dc2, tx):\n",
    "        vna_p = vna*(1 + ipca_p/100)**(dc1/dc2)\n",
    "        cot = 1/(1 + tx/100)**(du/252)\n",
    "        pu = vna_p*cot\n",
    "        return pu\n",
    "   \n",
    "    def venda_antecipada(self, vnapc, vnapv, duc, duv, txc, txv):\n",
    "        cotc = 1/(1 + txc/100)**(duc/252)\n",
    "        puc = vnapc*cotc\n",
    "        cotv = 1/(1 + txv/100)**(duv/252)\n",
    "        puv = vnapv*cotv\n",
    "        rb = puv/puc - 1\n",
    "        rba = (1 + rb)**(252/(duc - duv)) - 1\n",
    "        \n",
    "        return rb*100, rba*100"
   ]
  },
  {
   "cell_type": "markdown",
   "metadata": {},
   "source": [
    "## **Example 1**"
   ]
  },
  {
   "cell_type": "code",
   "execution_count": 2,
   "metadata": {},
   "outputs": [
    {
     "name": "stdout",
     "output_type": "stream",
     "text": [
      "1940.14\n"
     ]
    }
   ],
   "source": [
    "vna = 2494.97 # last nominal available value\n",
    "ipca_p = 0.79 # IPCA projected to the next 15 days\n",
    "dc1 = 22 # calendar days between the previous 15th and the date of purchase\n",
    "dc2 = 31 # calendar days between the last 15th and the next\n",
    "du = 1089\n",
    "tx = 6.13\n",
    "tit = titulo_ipca() \n",
    "pv = tit.get_pu(vna, ipca_p, du, dc1, dc2, tx) #get unit price\n",
    "print(np.round(pv,2))"
   ]
  },
  {
   "cell_type": "markdown",
   "metadata": {},
   "source": [
    "## **Example 2**"
   ]
  },
  {
   "cell_type": "code",
   "execution_count": 2,
   "metadata": {},
   "outputs": [
    {
     "name": "stdout",
     "output_type": "stream",
     "text": [
      "37.26\n",
      "15.56\n"
     ]
    }
   ],
   "source": [
    "# purchase\n",
    "vnac = 2494.97\n",
    "ipcapc = 0.79\n",
    "dc1 = 22\n",
    "dc2 = 31\n",
    "#nominal value\n",
    "vnapc = vnac*(1 + ipcapc/100)**(dc1/dc2)\n",
    "txc = 6.13\n",
    "duc = 1389\n",
    "# sale\n",
    "vnav = 2900.\n",
    "ipcapv = 0.85\n",
    "dcv1 = 22\n",
    "dcv2 = 31\n",
    "vnapv = vnav*(1 + ipcapv/100)**(dcv1/dcv2)\n",
    "txv = 6.0\n",
    "duv = 1089-252\n",
    "\n",
    "tit = titulo_ipca()\n",
    "rb, rba = tit.venda_antecipada(vnapc, vnapv, duc, duv, txc, txv)\n",
    "print(np.round(rb,2))\n",
    "print(np.round(rba,2))"
   ]
  }
 ],
 "metadata": {
  "kernelspec": {
   "display_name": "Python 3.10.6 64-bit",
   "language": "python",
   "name": "python3"
  },
  "language_info": {
   "codemirror_mode": {
    "name": "ipython",
    "version": 3
   },
   "file_extension": ".py",
   "mimetype": "text/x-python",
   "name": "python",
   "nbconvert_exporter": "python",
   "pygments_lexer": "ipython3",
   "version": "3.10.6"
  },
  "vscode": {
   "interpreter": {
    "hash": "916dbcbb3f70747c44a77c7bcd40155683ae19c65e1c03b4aa3499c5328201f1"
   }
  }
 },
 "nbformat": 4,
 "nbformat_minor": 2
}
