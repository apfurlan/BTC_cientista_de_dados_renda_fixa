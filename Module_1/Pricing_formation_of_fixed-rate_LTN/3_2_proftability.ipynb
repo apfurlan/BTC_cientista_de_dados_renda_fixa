{
 "cells": [
  {
   "cell_type": "code",
   "execution_count": 1,
   "metadata": {},
   "outputs": [],
   "source": [
    "import handcalcs.render as render\n",
    "from handcalcs import handcalc"
   ]
  },
  {
   "cell_type": "markdown",
   "metadata": {},
   "source": [
    "# Título Prefixado (LTN)"
   ]
  },
  {
   "cell_type": "markdown",
   "metadata": {},
   "source": [
    "$$ M = P\\left(1 + \\frac{i}{100}\\right)^{\\frac{du}{252}}$$"
   ]
  },
  {
   "cell_type": "code",
   "execution_count": 2,
   "metadata": {},
   "outputs": [],
   "source": [
    "@handcalc(jupyter_display=True)\n",
    "def vp(taxa, du):\n",
    "    vf = 1_000 # reais\n",
    "    vp = vf/((1 + taxa/100)**(du/252))\n",
    "    return vp"
   ]
  },
  {
   "cell_type": "code",
   "execution_count": 3,
   "metadata": {},
   "outputs": [],
   "source": [
    "@handcalc(jupyter_display=True)\n",
    "def rentabilidade(pu_compra, pu_venda, du):\n",
    "    valor_inv = pu_compra\n",
    "    valor_bruto_resgate = pu_venda\n",
    "    rb = 100*(valor_bruto_resgate/valor_inv - 1) # a.p.\n",
    "    rba = 100*((1 + rb/100)**(252/du) - 1)  \n",
    "    return rb, rba"
   ]
  },
  {
   "cell_type": "markdown",
   "metadata": {},
   "source": [
    "# Example 1"
   ]
  },
  {
   "cell_type": "markdown",
   "metadata": {},
   "source": [
    "An investor buys a fixed-rate bond at 13% p.a. with 750 business days between the purchase date and the maturity date.\n",
    "Determine the price of the bond on the date of purchase and the gross yield over the period."
   ]
  },
  {
   "cell_type": "code",
   "execution_count": 4,
   "metadata": {},
   "outputs": [
    {
     "data": {
      "text/latex": [
       "\\[\n",
       "\\begin{aligned}\n",
       "\\mathrm{vf} &= 1000 \\; \\;\\textrm{(reais)}\n",
       "\\\\[10pt]\n",
       "\\mathrm{vp} &= \\frac{ \\mathrm{vf} }{ \\left( 1 + \\frac{ \\mathrm{taxa} }{ 100 } \\right) ^{ \\left( \\frac{ \\mathrm{du} }{ 252 } \\right) } }  = \\frac{ 1000 }{ \\left( 1 + \\frac{ 13 }{ 100 } \\right) ^{ \\left( \\frac{ 750 }{ 252 } \\right) } } &= 695.070  \n",
       "\\end{aligned}\n",
       "\\]"
      ],
      "text/plain": [
       "<IPython.core.display.Latex object>"
      ]
     },
     "metadata": {},
     "output_type": "display_data"
    },
    {
     "data": {
      "text/latex": [
       "\\[\n",
       "\\begin{aligned}\n",
       "\\mathrm{valor}_{inv} &= 695.070 \\; \n",
       "\\\\[10pt]\n",
       "\\mathrm{valor}_{bruto_{resgate}} &= 1000 \\; \n",
       "\\\\[10pt]\n",
       "\\mathrm{rb} &= 100 \\cdot \\left( \\frac{ \\mathrm{valor}_{bruto_{resgate}} }{ \\mathrm{valor}_{inv} } - 1 \\right)  = 100 \\cdot \\left( \\frac{ 1000 }{ 695.070 } - 1 \\right) &= 43.870 \\; \\;\\textrm{(a.p.)}\n",
       "\\\\[10pt]\n",
       "\\mathrm{rba} &= 100 \\cdot \\left( \\left( 1 + \\frac{ \\mathrm{rb} }{ 100 } \\right) ^{ \\left( \\frac{ 252 }{ \\mathrm{du} } \\right) } - 1 \\right)  = 100 \\cdot \\left( \\left( 1 + \\frac{ 43.870 }{ 100 } \\right) ^{ \\left( \\frac{ 252 }{ 750 } \\right) } - 1 \\right) &= 13.000  \n",
       "\\end{aligned}\n",
       "\\]"
      ],
      "text/plain": [
       "<IPython.core.display.Latex object>"
      ]
     },
     "metadata": {},
     "output_type": "display_data"
    },
    {
     "name": "stdout",
     "output_type": "stream",
     "text": [
      "A rentabilidade bruta no período foi de 43.87 % a.p. e a rentabilidade anualizada foi de 13.0 %\n"
     ]
    }
   ],
   "source": [
    "taxa_pre = 13# % a.a.\n",
    "du = 750 # dias úteis\n",
    "vp1 = vp(taxa_pre, du)\n",
    "vf = 1_000 # reais\n",
    "rentbp, rentba = rentabilidade(vp1, vf, du)\n",
    "print(f'The brute proftability  in the period was {round(rentbp,2)} % a.p. and the annualized profitability was {round(rentba,2)} %')"
   ]
  },
  {
   "cell_type": "markdown",
   "metadata": {},
   "source": [
    "Bibliografia: Samy Dana, Miguel Longuini. Em Busca do tesouro direto: Um guia para investir em títulos públicos, Benvirá, 2ª edição, 2015"
   ]
  }
 ],
 "metadata": {
  "kernelspec": {
   "display_name": "Python 3.10.6 64-bit",
   "language": "python",
   "name": "python3"
  },
  "language_info": {
   "codemirror_mode": {
    "name": "ipython",
    "version": 3
   },
   "file_extension": ".py",
   "mimetype": "text/x-python",
   "name": "python",
   "nbconvert_exporter": "python",
   "pygments_lexer": "ipython3",
   "version": "3.10.6"
  },
  "vscode": {
   "interpreter": {
    "hash": "916dbcbb3f70747c44a77c7bcd40155683ae19c65e1c03b4aa3499c5328201f1"
   }
  }
 },
 "nbformat": 4,
 "nbformat_minor": 2
}
