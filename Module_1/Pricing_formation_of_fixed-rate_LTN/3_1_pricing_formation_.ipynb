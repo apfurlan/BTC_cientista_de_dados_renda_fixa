{
 "cells": [
  {
   "cell_type": "code",
   "execution_count": 1,
   "metadata": {},
   "outputs": [],
   "source": [
    "import handcalcs.render as render\n",
    "from handcalcs import handcalc"
   ]
  },
  {
   "cell_type": "markdown",
   "metadata": {},
   "source": [
    "# Tesouro Prefixado (LTN)"
   ]
  },
  {
   "cell_type": "markdown",
   "metadata": {},
   "source": [
    "$$ M = P\\left(1 + \\frac{i}{100}\\right)^{\\frac{du}{252}}$$"
   ]
  },
  {
   "cell_type": "code",
   "execution_count": 2,
   "metadata": {},
   "outputs": [],
   "source": [
    "@handcalc(jupyter_display=True)\n",
    "def vp(taxa, du):\n",
    "    vf = 1_000 # reais\n",
    "    vp = vf/((1 + taxa/100)**(du/252))\n",
    "    return vp"
   ]
  },
  {
   "cell_type": "markdown",
   "metadata": {},
   "source": [
    "# Example 1"
   ]
  },
  {
   "cell_type": "markdown",
   "metadata": {},
   "source": [
    "An investor bought an LTN, with 250 working days between the purchase date and the maturity date, at a rate of 13% p.a.\n",
    "What is the price of this bond on the date of purchase?"
   ]
  },
  {
   "cell_type": "code",
   "execution_count": 3,
   "metadata": {},
   "outputs": [
    {
     "data": {
      "text/latex": [
       "\\[\n",
       "\\begin{aligned}\n",
       "\\mathrm{vf} &= 1000 \\; \\;\\textrm{(reais)}\n",
       "\\\\[10pt]\n",
       "\\mathrm{vp} &= \\frac{ \\mathrm{vf} }{ \\left( 1 + \\frac{ \\mathrm{taxa} }{ 100 } \\right) ^{ \\left( \\frac{ \\mathrm{du} }{ 252 } \\right) } }  = \\frac{ 1000 }{ \\left( 1 + \\frac{ 13 }{ 100 } \\right) ^{ \\left( \\frac{ 250 }{ 252 } \\right) } } &= 885.815  \n",
       "\\end{aligned}\n",
       "\\]"
      ],
      "text/plain": [
       "<IPython.core.display.Latex object>"
      ]
     },
     "metadata": {},
     "output_type": "display_data"
    },
    {
     "name": "stdout",
     "output_type": "stream",
     "text": [
      " O preço unitário para um título pré com taxa bruta de 13% a.a. e 250 dias úteis é 885.8145591115162\n"
     ]
    }
   ],
   "source": [
    "taxa = 13# % a.a.\n",
    "du = 250 # dias úteis\n",
    "vp = vp(taxa, du)\n",
    "print(f'The unit price for a prepaid bond with a gross rate of {taxa}% p.a. and {du} business days is {vp}')"
   ]
  },
  {
   "cell_type": "markdown",
   "metadata": {},
   "source": [
    "$$ i = 100\\left[\\left(\\frac{M}{P}\\right)^{252/du} - 1\\right]$$"
   ]
  },
  {
   "cell_type": "code",
   "execution_count": 4,
   "metadata": {},
   "outputs": [],
   "source": [
    "@handcalc(jupyter_display=True)\n",
    "def taxa(vp, du):\n",
    "    vf = 1_000 # reais\n",
    "    taxa = 100*((vf/vp)**(252/du) - 1)\n",
    "    return taxa"
   ]
  },
  {
   "cell_type": "code",
   "execution_count": 5,
   "metadata": {},
   "outputs": [
    {
     "data": {
      "text/latex": [
       "\\[\n",
       "\\begin{aligned}\n",
       "\\mathrm{vf} &= 1000 \\; \\;\\textrm{(reais)}\n",
       "\\\\[10pt]\n",
       "\\mathrm{taxa} &= 100 \\cdot \\left( \\left( \\frac{ \\mathrm{vf} }{ \\mathrm{vp} } \\right) ^{ \\left( \\frac{ 252 }{ \\mathrm{du} } \\right) } - 1 \\right) \\\\&= 100 \\cdot \\left( \\left( \\frac{ 1000 }{ 885.815 } \\right) ^{ \\left( \\frac{ 252 }{ 250 } \\right) } - 1 \\right) \\\\&= 13.000  \\\\[10pt]\n",
       "\\end{aligned}\n",
       "\\]"
      ],
      "text/plain": [
       "<IPython.core.display.Latex object>"
      ]
     },
     "metadata": {},
     "output_type": "display_data"
    },
    {
     "name": "stdout",
     "output_type": "stream",
     "text": [
      " A taxa negociada é de 13.0 % a.a.\n"
     ]
    }
   ],
   "source": [
    "vp = 885.8145591115162\n",
    "du =  250\n",
    "i = taxa(vp, du)\n",
    "print(f' A taxa negociada é de {round(i,2)} % a.a.')"
   ]
  },
  {
   "cell_type": "markdown",
   "metadata": {},
   "source": [
    "# Exemplo 2"
   ]
  },
  {
   "cell_type": "markdown",
   "metadata": {},
   "source": [
    "Um investidor comprou uma LTN, com 430 dias úteis entre a data de compra e a data de vencimento, com um preço unitário de R$ 800?\n",
    "Qual é a taxa desse título na data da compra?"
   ]
  },
  {
   "cell_type": "code",
   "execution_count": 6,
   "metadata": {},
   "outputs": [
    {
     "data": {
      "text/latex": [
       "\\[\n",
       "\\begin{aligned}\n",
       "\\mathrm{vf} &= 1000 \\; \\;\\textrm{(reais)}\n",
       "\\\\[10pt]\n",
       "\\mathrm{taxa} &= 100 \\cdot \\left( \\left( \\frac{ \\mathrm{vf} }{ \\mathrm{vp} } \\right) ^{ \\left( \\frac{ 252 }{ \\mathrm{du} } \\right) } - 1 \\right)  = 100 \\cdot \\left( \\left( \\frac{ 1000 }{ 800 } \\right) ^{ \\left( \\frac{ 252 }{ 430 } \\right) } - 1 \\right) &= 13.971  \n",
       "\\end{aligned}\n",
       "\\]"
      ],
      "text/plain": [
       "<IPython.core.display.Latex object>"
      ]
     },
     "metadata": {},
     "output_type": "display_data"
    },
    {
     "name": "stdout",
     "output_type": "stream",
     "text": [
      "A taxa desse título na compra é de 13.97084679573295 % a.a.\n"
     ]
    }
   ],
   "source": [
    "du = 430 # dias úteis\n",
    "vp = 800 # reais\n",
    "i = taxa(vp, du)\n",
    "\n",
    "print(f'A taxa desse título na compra é de {i} % a.a.')"
   ]
  },
  {
   "cell_type": "markdown",
   "metadata": {},
   "source": [
    "Bibliografia: Samy Dana, Miguel Longuini. Em Busca do tesouro direto: Um guia para investir em títulos públicos, Benvirá, 2ª edição, 2015"
   ]
  },
  {
   "cell_type": "markdown",
   "metadata": {},
   "source": []
  }
 ],
 "metadata": {
  "kernelspec": {
   "display_name": "Python 3.10.6 64-bit",
   "language": "python",
   "name": "python3"
  },
  "language_info": {
   "codemirror_mode": {
    "name": "ipython",
    "version": 3
   },
   "file_extension": ".py",
   "mimetype": "text/x-python",
   "name": "python",
   "nbconvert_exporter": "python",
   "pygments_lexer": "ipython3",
   "version": "3.10.6"
  },
  "vscode": {
   "interpreter": {
    "hash": "916dbcbb3f70747c44a77c7bcd40155683ae19c65e1c03b4aa3499c5328201f1"
   }
  }
 },
 "nbformat": 4,
 "nbformat_minor": 2
}
