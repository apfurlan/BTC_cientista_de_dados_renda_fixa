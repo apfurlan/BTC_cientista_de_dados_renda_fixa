{
 "cells": [
  {
   "cell_type": "code",
   "execution_count": 1,
   "metadata": {},
   "outputs": [],
   "source": [
    "import handcalcs.render as render\n",
    "from handcalcs import handcalc"
   ]
  },
  {
   "cell_type": "code",
   "execution_count": 2,
   "metadata": {},
   "outputs": [],
   "source": [
    "@handcalc(jupyter_display=True)\n",
    "def taxas_equivalentes(i1, n1, n2): \n",
    "    i2 = (1 + i1/100)**(n1/n2) - 1\n",
    "    return i2*100"
   ]
  },
  {
   "cell_type": "code",
   "execution_count": 3,
   "metadata": {},
   "outputs": [],
   "source": [
    "def montante(list_rent, P):\n",
    "    M = P\n",
    "    for i in list_rent:\n",
    "        M *= (1+i/100)\n",
    "    return M"
   ]
  },
  {
   "cell_type": "code",
   "execution_count": 4,
   "metadata": {},
   "outputs": [],
   "source": [
    "def taxa_ac(list_rent):\n",
    "    import numpy as np\n",
    "    list_fat = [1 + x/100 for x in list_rent]\n",
    "    i_ac = (np.prod(list_fat) - 1)\n",
    "    return i_ac*100"
   ]
  },
  {
   "cell_type": "code",
   "execution_count": 5,
   "metadata": {},
   "outputs": [],
   "source": [
    "def taxa_media(list_rent):\n",
    "    import numpy as np\n",
    "    list_fat = [1 + x/100 for x in list_rent]\n",
    "    i_m = ((np.prod(list_fat))**(1/len(list_fat)) - 1)\n",
    "    return i_m*100"
   ]
  },
  {
   "cell_type": "markdown",
   "metadata": {},
   "source": [
    "# Certificado de depósito bancário (CDB)"
   ]
  },
  {
   "cell_type": "markdown",
   "metadata": {},
   "source": [
    "CDBs podem ser prefixados, pós-fixados, ou indexados à taxa flutuante."
   ]
  },
  {
   "cell_type": "markdown",
   "metadata": {},
   "source": [
    "# Exemplo 1"
   ]
  },
  {
   "cell_type": "markdown",
   "metadata": {},
   "source": [
    "Um investidor aplica $ 200.000,00 em um CDB prefixado, à taxa de 24,80% a.a. (base 360 dias), por um período de 32 dias corridos, no qual estão contidos 21 dias úteis. O imposto de renda é retido na fonte à alíquota de 22,5% sobre o rendimento bruto.\n"
   ]
  },
  {
   "cell_type": "markdown",
   "metadata": {},
   "source": [
    "a) O montante bruto"
   ]
  },
  {
   "cell_type": "code",
   "execution_count": 6,
   "metadata": {},
   "outputs": [
    {
     "name": "stdout",
     "output_type": "stream",
     "text": [
      " O montante Bruto é 203977.5650936861 reais\n"
     ]
    }
   ],
   "source": [
    "P = 200_000 # reais\n",
    "i_ano = 24.80 #% a.a. (base 360 dias)\n",
    "nc = 32/360 # anos\n",
    "M = P*(1 + i_ano/100)**nc\n",
    "print(f' O montante Bruto é {M} reais')"
   ]
  },
  {
   "cell_type": "markdown",
   "metadata": {},
   "source": [
    "b) O rendimento bruto"
   ]
  },
  {
   "cell_type": "code",
   "execution_count": 7,
   "metadata": {},
   "outputs": [
    {
     "name": "stdout",
     "output_type": "stream",
     "text": [
      " O rendimento bruto é R$ 3977.5650936861057\n"
     ]
    }
   ],
   "source": [
    "rendimento_bruto = M - P\n",
    "print(f' O rendimento bruto é R$ {rendimento_bruto}')"
   ]
  },
  {
   "cell_type": "markdown",
   "metadata": {},
   "source": [
    "c) O imposto de renda retido na fonte"
   ]
  },
  {
   "cell_type": "code",
   "execution_count": 8,
   "metadata": {},
   "outputs": [
    {
     "name": "stdout",
     "output_type": "stream",
     "text": [
      " O imposto é R$894.9521460793738\n"
     ]
    }
   ],
   "source": [
    "imposto = (22.5/100)*rendimento_bruto\n",
    "print(f' O imposto é R${imposto}')"
   ]
  },
  {
   "cell_type": "markdown",
   "metadata": {},
   "source": [
    "d) O Montante líquido"
   ]
  },
  {
   "cell_type": "code",
   "execution_count": 9,
   "metadata": {},
   "outputs": [
    {
     "name": "stdout",
     "output_type": "stream",
     "text": [
      " O montante liquido é R$203082.61294760674\n"
     ]
    }
   ],
   "source": [
    "ML = M - imposto\n",
    "print(f' O montante liquido é R${ML}')"
   ]
  },
  {
   "cell_type": "markdown",
   "metadata": {},
   "source": [
    "e) A taxa efetiva liquida do período"
   ]
  },
  {
   "cell_type": "code",
   "execution_count": 10,
   "metadata": {},
   "outputs": [
    {
     "name": "stdout",
     "output_type": "stream",
     "text": [
      " A taxa efetiva líquida ao período é 1.5413064738033722 % a.p.\n"
     ]
    }
   ],
   "source": [
    "taxa_efetiva_liquida = 100*(ML/P - 1)\n",
    "print(f' A taxa efetiva líquida ao período é {taxa_efetiva_liquida} % a.p.')"
   ]
  },
  {
   "cell_type": "markdown",
   "metadata": {},
   "source": [
    "f) A taxa over ano equivalente"
   ]
  },
  {
   "cell_type": "code",
   "execution_count": 11,
   "metadata": {},
   "outputs": [
    {
     "data": {
      "text/latex": [
       "\\[\n",
       "\\begin{aligned}\n",
       "\\mathrm{i2} &= \\left( 1 + \\frac{ \\mathrm{i1} }{ 100 } \\right) ^{ \\left( \\frac{ \\mathrm{n1} }{ \\mathrm{n2} } \\right) } - 1  = \\left( 1 + \\frac{ 1.989 }{ 100 } \\right) ^{ \\left( \\frac{ 1 }{ 0.083 } \\right) } - 1 &= 0.267  \n",
       "\\end{aligned}\n",
       "\\]"
      ],
      "text/plain": [
       "<IPython.core.display.Latex object>"
      ]
     },
     "metadata": {},
     "output_type": "display_data"
    },
    {
     "name": "stdout",
     "output_type": "stream",
     "text": [
      " A taxa over ano equivalente é 26.656910738235396 % a.a.o.\n"
     ]
    }
   ],
   "source": [
    "taxa_efetiva_bruta = 100*(M/P - 1)\n",
    "n1 = 1 # período\n",
    "n2 = 21/252 # anos\n",
    "taxa_over_equivalente = taxas_equivalentes(taxa_efetiva_bruta, n1, n2)\n",
    "print(f' A taxa over ano equivalente é {taxa_over_equivalente} % a.a.o.')\n"
   ]
  },
  {
   "cell_type": "markdown",
   "metadata": {},
   "source": [
    "g) A taxa over ano líquida equivalente"
   ]
  },
  {
   "cell_type": "code",
   "execution_count": 12,
   "metadata": {},
   "outputs": [
    {
     "data": {
      "text/latex": [
       "\\[\n",
       "\\begin{aligned}\n",
       "\\mathrm{i2} &= \\left( 1 + \\frac{ \\mathrm{i1} }{ 100 } \\right) ^{ \\left( \\frac{ \\mathrm{n1} }{ \\mathrm{n2} } \\right) } - 1  = \\left( 1 + \\frac{ 1.541 }{ 100 } \\right) ^{ \\left( \\frac{ 1 }{ 0.083 } \\right) } - 1 &= 0.201  \n",
       "\\end{aligned}\n",
       "\\]"
      ],
      "text/plain": [
       "<IPython.core.display.Latex object>"
      ]
     },
     "metadata": {},
     "output_type": "display_data"
    },
    {
     "name": "stdout",
     "output_type": "stream",
     "text": [
      " A taxa over ano equivalente é 20.147008818436607 % a.a.o.\n"
     ]
    }
   ],
   "source": [
    "N1 = 1 # período\n",
    "N2 = 21/252 # anos\n",
    "taxa_over_liquida_equivalente = taxas_equivalentes(taxa_efetiva_liquida, N1, N2)\n",
    "print(f' A taxa over ano equivalente é {taxa_over_liquida_equivalente} % a.a.o.')"
   ]
  },
  {
   "cell_type": "markdown",
   "metadata": {},
   "source": [
    "# Exemplo 2"
   ]
  },
  {
   "cell_type": "markdown",
   "metadata": {},
   "source": [
    "Um investidor aplica $ 100.000,00 em um CDB pós-fixado, à taxa de TR + 12,70% a.a., por um período de 120 dias. O imposto de renda é retido na fonte à alíquota de 15% sobre o rendimento bruto. A TR do período corresponde a 2,92%. Determinar:"
   ]
  },
  {
   "cell_type": "markdown",
   "metadata": {},
   "source": [
    "a) O montante bruto"
   ]
  },
  {
   "cell_type": "code",
   "execution_count": 13,
   "metadata": {},
   "outputs": [
    {
     "name": "stdout",
     "output_type": "stream",
     "text": [
      "O montante bruto é dado por 107104.5077531178\n"
     ]
    }
   ],
   "source": [
    "from faulthandler import disable\n",
    "\n",
    "\n",
    "P = 100_000 # reais\n",
    "M = P*(1 + 2.92/100)*(1 + 12.70/100)**(120/360)\n",
    "print(f'O montante bruto é dado por {M}')"
   ]
  },
  {
   "cell_type": "markdown",
   "metadata": {},
   "source": [
    "b) O rendimento bruto"
   ]
  },
  {
   "cell_type": "code",
   "execution_count": 14,
   "metadata": {},
   "outputs": [
    {
     "name": "stdout",
     "output_type": "stream",
     "text": [
      " O rendimento bruto é R$7104.507753117796\n"
     ]
    }
   ],
   "source": [
    "rendimento_bruto = M - P\n",
    "print(f' O rendimento bruto é R${rendimento_bruto}')"
   ]
  },
  {
   "cell_type": "markdown",
   "metadata": {},
   "source": [
    "c) O imposto de renda retido na fonte"
   ]
  },
  {
   "cell_type": "code",
   "execution_count": 15,
   "metadata": {},
   "outputs": [
    {
     "name": "stdout",
     "output_type": "stream",
     "text": [
      " O imposto é de 1065.6761629676694\n"
     ]
    }
   ],
   "source": [
    "imposto = (15/100)*rendimento_bruto\n",
    "print(f' O imposto é de {imposto}')"
   ]
  },
  {
   "cell_type": "markdown",
   "metadata": {},
   "source": [
    "d) Montante Líquido"
   ]
  },
  {
   "cell_type": "code",
   "execution_count": 16,
   "metadata": {},
   "outputs": [
    {
     "name": "stdout",
     "output_type": "stream",
     "text": [
      " O montante líquido é dado por R$ 106038.83159015013\n"
     ]
    }
   ],
   "source": [
    "ML = M - imposto\n",
    "print(f' O montante líquido é dado por R$ {ML}')"
   ]
  },
  {
   "cell_type": "markdown",
   "metadata": {},
   "source": [
    "e) Taxa efetiva líquida no período"
   ]
  },
  {
   "cell_type": "code",
   "execution_count": 17,
   "metadata": {},
   "outputs": [
    {
     "name": "stdout",
     "output_type": "stream",
     "text": [
      " A taxa efetiva líquida no período é dada por 6.038831590150129 % a.p.\n"
     ]
    }
   ],
   "source": [
    "taxa_efetiva_liquida = 100*(ML/P - 1)\n",
    "print(f' A taxa efetiva líquida no período é dada por {taxa_efetiva_liquida} % a.p.')"
   ]
  },
  {
   "cell_type": "markdown",
   "metadata": {},
   "source": [
    "Referência Bibliográfica : José Roberto Securato. Cálculo financeiro das tesourarias; Bancos e empresas. Saint Paul Editora LTDA"
   ]
  }
 ],
 "metadata": {
  "kernelspec": {
   "display_name": "Python 3 (ipykernel)",
   "language": "python",
   "name": "python3"
  },
  "language_info": {
   "codemirror_mode": {
    "name": "ipython",
    "version": 3
   },
   "file_extension": ".py",
   "mimetype": "text/x-python",
   "name": "python",
   "nbconvert_exporter": "python",
   "pygments_lexer": "ipython3",
   "version": "3.8.10"
  },
  "vscode": {
   "interpreter": {
    "hash": "bce320103a4f9599bf42cb45744b1f3acee8930c6f7dcdff248089a2e65863cd"
   }
  }
 },
 "nbformat": 4,
 "nbformat_minor": 2
}
