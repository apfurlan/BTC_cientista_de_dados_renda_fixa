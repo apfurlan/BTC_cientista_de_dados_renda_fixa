{
 "cells": [
  {
   "cell_type": "markdown",
   "id": "93aabc27",
   "metadata": {},
   "source": [
    "# 8.5. Aplicação Prática Regressão Logística"
   ]
  },
  {
   "cell_type": "code",
   "execution_count": 1,
   "id": "a3608bae",
   "metadata": {},
   "outputs": [],
   "source": [
    "import numpy as np\n",
    "import pandas as pd\n",
    "import scipy.stats\n",
    "\n",
    "from sklearn.model_selection import train_test_split \n",
    "from sklearn.linear_model import LogisticRegression, SGDClassifier\n",
    "from sklearn.preprocessing import LabelEncoder, StandardScaler, OneHotEncoder\n",
    "from sklearn import metrics\n",
    "from sklearn.metrics import confusion_matrix\n",
    "from sklearn.metrics import roc_curve, auc\n",
    "\n",
    "import plotly.graph_objects as go\n",
    "from plotly.subplots import make_subplots\n",
    "\n",
    "import matplotlib.pyplot as plt\n",
    "%matplotlib inline\n",
    "\n",
    "import warnings\n",
    "warnings.filterwarnings(\"ignore\")"
   ]
  },
  {
   "cell_type": "code",
   "execution_count": 2,
   "id": "1771a00b",
   "metadata": {},
   "outputs": [
    {
     "data": {
      "text/html": [
       "<div>\n",
       "<style scoped>\n",
       "    .dataframe tbody tr th:only-of-type {\n",
       "        vertical-align: middle;\n",
       "    }\n",
       "\n",
       "    .dataframe tbody tr th {\n",
       "        vertical-align: top;\n",
       "    }\n",
       "\n",
       "    .dataframe thead th {\n",
       "        text-align: right;\n",
       "    }\n",
       "</style>\n",
       "<table border=\"1\" class=\"dataframe\">\n",
       "  <thead>\n",
       "    <tr style=\"text-align: right;\">\n",
       "      <th></th>\n",
       "      <th>Index</th>\n",
       "      <th>Age</th>\n",
       "      <th>Sex</th>\n",
       "      <th>Job</th>\n",
       "      <th>Housing</th>\n",
       "      <th>Saving accounts</th>\n",
       "      <th>Checking account</th>\n",
       "      <th>Credit amount</th>\n",
       "      <th>Duration</th>\n",
       "      <th>Purpose</th>\n",
       "      <th>default</th>\n",
       "    </tr>\n",
       "  </thead>\n",
       "  <tbody>\n",
       "    <tr>\n",
       "      <th>0</th>\n",
       "      <td>0</td>\n",
       "      <td>67</td>\n",
       "      <td>male</td>\n",
       "      <td>2</td>\n",
       "      <td>own</td>\n",
       "      <td>NaN</td>\n",
       "      <td>little</td>\n",
       "      <td>1169</td>\n",
       "      <td>6</td>\n",
       "      <td>radio/TV</td>\n",
       "      <td>good</td>\n",
       "    </tr>\n",
       "    <tr>\n",
       "      <th>1</th>\n",
       "      <td>1</td>\n",
       "      <td>22</td>\n",
       "      <td>female</td>\n",
       "      <td>2</td>\n",
       "      <td>own</td>\n",
       "      <td>little</td>\n",
       "      <td>moderate</td>\n",
       "      <td>5951</td>\n",
       "      <td>48</td>\n",
       "      <td>radio/TV</td>\n",
       "      <td>bad</td>\n",
       "    </tr>\n",
       "    <tr>\n",
       "      <th>2</th>\n",
       "      <td>2</td>\n",
       "      <td>49</td>\n",
       "      <td>male</td>\n",
       "      <td>1</td>\n",
       "      <td>own</td>\n",
       "      <td>little</td>\n",
       "      <td>NaN</td>\n",
       "      <td>2096</td>\n",
       "      <td>12</td>\n",
       "      <td>education</td>\n",
       "      <td>good</td>\n",
       "    </tr>\n",
       "    <tr>\n",
       "      <th>3</th>\n",
       "      <td>3</td>\n",
       "      <td>45</td>\n",
       "      <td>male</td>\n",
       "      <td>2</td>\n",
       "      <td>free</td>\n",
       "      <td>little</td>\n",
       "      <td>little</td>\n",
       "      <td>7882</td>\n",
       "      <td>42</td>\n",
       "      <td>furniture/equipment</td>\n",
       "      <td>good</td>\n",
       "    </tr>\n",
       "    <tr>\n",
       "      <th>4</th>\n",
       "      <td>4</td>\n",
       "      <td>53</td>\n",
       "      <td>male</td>\n",
       "      <td>2</td>\n",
       "      <td>free</td>\n",
       "      <td>little</td>\n",
       "      <td>little</td>\n",
       "      <td>4870</td>\n",
       "      <td>24</td>\n",
       "      <td>car</td>\n",
       "      <td>bad</td>\n",
       "    </tr>\n",
       "    <tr>\n",
       "      <th>5</th>\n",
       "      <td>5</td>\n",
       "      <td>35</td>\n",
       "      <td>male</td>\n",
       "      <td>1</td>\n",
       "      <td>free</td>\n",
       "      <td>NaN</td>\n",
       "      <td>NaN</td>\n",
       "      <td>9055</td>\n",
       "      <td>36</td>\n",
       "      <td>education</td>\n",
       "      <td>good</td>\n",
       "    </tr>\n",
       "    <tr>\n",
       "      <th>6</th>\n",
       "      <td>6</td>\n",
       "      <td>53</td>\n",
       "      <td>male</td>\n",
       "      <td>2</td>\n",
       "      <td>own</td>\n",
       "      <td>quite rich</td>\n",
       "      <td>NaN</td>\n",
       "      <td>2835</td>\n",
       "      <td>24</td>\n",
       "      <td>furniture/equipment</td>\n",
       "      <td>good</td>\n",
       "    </tr>\n",
       "    <tr>\n",
       "      <th>7</th>\n",
       "      <td>7</td>\n",
       "      <td>35</td>\n",
       "      <td>male</td>\n",
       "      <td>3</td>\n",
       "      <td>rent</td>\n",
       "      <td>little</td>\n",
       "      <td>moderate</td>\n",
       "      <td>6948</td>\n",
       "      <td>36</td>\n",
       "      <td>car</td>\n",
       "      <td>good</td>\n",
       "    </tr>\n",
       "    <tr>\n",
       "      <th>8</th>\n",
       "      <td>8</td>\n",
       "      <td>61</td>\n",
       "      <td>male</td>\n",
       "      <td>1</td>\n",
       "      <td>own</td>\n",
       "      <td>rich</td>\n",
       "      <td>NaN</td>\n",
       "      <td>3059</td>\n",
       "      <td>12</td>\n",
       "      <td>radio/TV</td>\n",
       "      <td>good</td>\n",
       "    </tr>\n",
       "    <tr>\n",
       "      <th>9</th>\n",
       "      <td>9</td>\n",
       "      <td>28</td>\n",
       "      <td>male</td>\n",
       "      <td>3</td>\n",
       "      <td>own</td>\n",
       "      <td>little</td>\n",
       "      <td>moderate</td>\n",
       "      <td>5234</td>\n",
       "      <td>30</td>\n",
       "      <td>car</td>\n",
       "      <td>bad</td>\n",
       "    </tr>\n",
       "  </tbody>\n",
       "</table>\n",
       "</div>"
      ],
      "text/plain": [
       "   Index  Age     Sex  Job Housing Saving accounts Checking account  \\\n",
       "0      0   67    male    2     own             NaN           little   \n",
       "1      1   22  female    2     own          little         moderate   \n",
       "2      2   49    male    1     own          little              NaN   \n",
       "3      3   45    male    2    free          little           little   \n",
       "4      4   53    male    2    free          little           little   \n",
       "5      5   35    male    1    free             NaN              NaN   \n",
       "6      6   53    male    2     own      quite rich              NaN   \n",
       "7      7   35    male    3    rent          little         moderate   \n",
       "8      8   61    male    1     own            rich              NaN   \n",
       "9      9   28    male    3     own          little         moderate   \n",
       "\n",
       "   Credit amount  Duration              Purpose default  \n",
       "0           1169         6             radio/TV    good  \n",
       "1           5951        48             radio/TV     bad  \n",
       "2           2096        12            education    good  \n",
       "3           7882        42  furniture/equipment    good  \n",
       "4           4870        24                  car     bad  \n",
       "5           9055        36            education    good  \n",
       "6           2835        24  furniture/equipment    good  \n",
       "7           6948        36                  car    good  \n",
       "8           3059        12             radio/TV    good  \n",
       "9           5234        30                  car     bad  "
      ]
     },
     "execution_count": 2,
     "metadata": {},
     "output_type": "execute_result"
    }
   ],
   "source": [
    "# Carregando a base de dados\n",
    "\n",
    "path = r\"/Users/leandroguerra/Library/CloudStorage/OneDrive-Personale/MBA - XP Educação/M3 - Códigos/german_credit_data.csv\"\n",
    "credit = pd.read_csv(path, header = 0, names = ['Index', 'Age', 'Sex', 'Job', 'Housing', 'Saving accounts',\n",
    "       'Checking account', 'Credit amount', 'Duration', 'Purpose', 'default'])\n",
    "\n",
    "credit.head(10)"
   ]
  },
  {
   "cell_type": "code",
   "execution_count": 3,
   "id": "019fad95",
   "metadata": {},
   "outputs": [
    {
     "data": {
      "text/plain": [
       "good    700\n",
       "bad     300\n",
       "Name: default, dtype: int64"
      ]
     },
     "execution_count": 3,
     "metadata": {},
     "output_type": "execute_result"
    }
   ],
   "source": [
    "credit[\"default\"].value_counts()"
   ]
  },
  {
   "cell_type": "code",
   "execution_count": 5,
   "id": "a5827f99",
   "metadata": {},
   "outputs": [
    {
     "data": {
      "text/plain": [
       "little        603\n",
       "NA            183\n",
       "moderate      103\n",
       "quite rich     63\n",
       "rich           48\n",
       "Name: Saving accounts, dtype: int64"
      ]
     },
     "execution_count": 5,
     "metadata": {},
     "output_type": "execute_result"
    }
   ],
   "source": [
    "credit[\"Saving accounts\"].value_counts()"
   ]
  },
  {
   "cell_type": "code",
   "execution_count": 6,
   "id": "a2c44e1b",
   "metadata": {},
   "outputs": [
    {
     "data": {
      "text/plain": [
       "car                    337\n",
       "radio/TV               280\n",
       "furniture/equipment    181\n",
       "business                97\n",
       "education               59\n",
       "repairs                 22\n",
       "domestic appliances     12\n",
       "vacation/others         12\n",
       "Name: Purpose, dtype: int64"
      ]
     },
     "execution_count": 6,
     "metadata": {},
     "output_type": "execute_result"
    }
   ],
   "source": [
    "credit[\"Purpose\"].value_counts()"
   ]
  },
  {
   "cell_type": "code",
   "execution_count": 4,
   "id": "5de320aa",
   "metadata": {},
   "outputs": [],
   "source": [
    "credit[\"Saving accounts\"] = credit[\"Saving accounts\"].fillna(value = \"NA\")\n",
    "credit[\"Checking account\"] = credit[\"Checking account\"].fillna(value = \"NA\")"
   ]
  },
  {
   "cell_type": "code",
   "execution_count": 7,
   "id": "86fb8087",
   "metadata": {},
   "outputs": [],
   "source": [
    "# Removendo os NAs\n",
    "credit[\"Saving accounts\"]= credit[\"Saving accounts\"].map(\n",
    "    {'little': 'little', 'moderate': 'moderate', 'quite rich':'other','rich':'other', 'NA':'other'})\n",
    "credit[\"Checking account\"]= credit[\"Checking account\"].map(\n",
    "    {'little': 'little', 'moderate': 'moderate','rich':'other', 'NA':'other' })\n",
    "\n",
    "# Ajustando a coluna Purpose\n",
    "le = LabelEncoder()\n",
    "credit[\"Purpose\"] = le.fit_transform(credit[\"Purpose\"])"
   ]
  },
  {
   "cell_type": "code",
   "execution_count": 9,
   "id": "2577cb25",
   "metadata": {},
   "outputs": [
    {
     "data": {
      "text/plain": [
       "1    337\n",
       "5    280\n",
       "4    181\n",
       "0     97\n",
       "3     59\n",
       "6     22\n",
       "2     12\n",
       "7     12\n",
       "Name: Purpose, dtype: int64"
      ]
     },
     "execution_count": 9,
     "metadata": {},
     "output_type": "execute_result"
    }
   ],
   "source": [
    "credit[\"Purpose\"].value_counts()"
   ]
  },
  {
   "cell_type": "code",
   "execution_count": 10,
   "id": "484e92ae",
   "metadata": {},
   "outputs": [
    {
     "data": {
      "text/plain": [
       "0    700\n",
       "1    300\n",
       "Name: default, dtype: int64"
      ]
     },
     "execution_count": 10,
     "metadata": {},
     "output_type": "execute_result"
    }
   ],
   "source": [
    "credit[\"default\"] = credit[\"default\"].map({\"good\":0, \"bad\": 1})\n",
    "credit[\"default\"].value_counts()"
   ]
  },
  {
   "cell_type": "code",
   "execution_count": 11,
   "id": "6bcf85c9",
   "metadata": {},
   "outputs": [],
   "source": [
    "x = credit[['Age', 'Sex', 'Job', 'Housing', 'Saving accounts',\n",
    "       'Checking account', 'Credit amount', 'Duration', 'Purpose']]\n",
    "\n",
    "y = credit[\"default\"]"
   ]
  },
  {
   "cell_type": "code",
   "execution_count": 12,
   "id": "22ad9bb3",
   "metadata": {},
   "outputs": [],
   "source": [
    "# Criando dummies das colunas categóricas e normalização das colunas numéricas\n",
    "\n",
    "cat_cols = list(x.columns[x.dtypes == \"object\"])\n",
    "num_cols = list(x.columns[x.dtypes != \"object\"])\n",
    "\n",
    "dummy =  pd.get_dummies(x[cat_cols], drop_first = True)\n",
    "\n",
    "x = pd.concat([dummy, x[num_cols]], axis=1, join = \"inner\")\n",
    "\n",
    "ss = StandardScaler()\n",
    "\n",
    "x = ss.fit_transform(x)"
   ]
  },
  {
   "cell_type": "code",
   "execution_count": 13,
   "id": "b49932c2",
   "metadata": {},
   "outputs": [
    {
     "data": {
      "text/plain": [
       "array([[ 0.67028006,  0.63444822, -0.4669334 , ..., -0.74513141,\n",
       "        -1.23647786,  1.07326286],\n",
       "       [-1.49191369,  0.63444822, -0.4669334 , ...,  0.94981679,\n",
       "         2.24819436,  1.07326286],\n",
       "       [ 0.67028006,  0.63444822, -0.4669334 , ..., -0.41656241,\n",
       "        -0.73866754,  0.06170503],\n",
       "       ...,\n",
       "       [ 0.67028006,  0.63444822, -0.4669334 , ..., -0.87450324,\n",
       "        -0.73866754,  1.07326286],\n",
       "       [ 0.67028006, -1.57617276, -0.4669334 , ..., -0.50552769,\n",
       "         1.9992892 ,  1.07326286],\n",
       "       [ 0.67028006,  0.63444822, -0.4669334 , ...,  0.46245715,\n",
       "         1.9992892 , -0.9498528 ]])"
      ]
     },
     "execution_count": 13,
     "metadata": {},
     "output_type": "execute_result"
    }
   ],
   "source": [
    "x"
   ]
  },
  {
   "cell_type": "code",
   "execution_count": 14,
   "id": "04e26264",
   "metadata": {},
   "outputs": [],
   "source": [
    "# Separando entre treinamento e teste\n",
    "\n",
    "x_train, x_test, y_train, y_test = train_test_split(x, y, test_size = 0.5, random_state = 42)"
   ]
  },
  {
   "cell_type": "code",
   "execution_count": 15,
   "id": "7200fef8",
   "metadata": {},
   "outputs": [
    {
     "data": {
      "text/plain": [
       "0.74"
      ]
     },
     "execution_count": 15,
     "metadata": {},
     "output_type": "execute_result"
    }
   ],
   "source": [
    "lr = LogisticRegression()\n",
    "\n",
    "model = lr.fit(x_train, y_train)\n",
    "\n",
    "model.score(x_test, y_test)"
   ]
  },
  {
   "cell_type": "code",
   "execution_count": 16,
   "id": "cf5338fb",
   "metadata": {},
   "outputs": [],
   "source": [
    "# Previsão dos resultados\n",
    "y_pred_train = model.predict(x_train)\n",
    "y_pred_test = model.predict(x_test)"
   ]
  },
  {
   "cell_type": "code",
   "execution_count": 17,
   "id": "77ccbac5",
   "metadata": {},
   "outputs": [
    {
     "name": "stdout",
     "output_type": "stream",
     "text": [
      "[[315  38]\n",
      " [ 92  55]]\n",
      "Registros erroneamente classificados como Default     =  7.6\n",
      "Registros erroneamente classificados como Não-Default = 18.4\n",
      "Registros corretamente classificados como Default     = 11.0\n",
      "Registros corretamente classificados como Não-Default = 63.0\n"
     ]
    }
   ],
   "source": [
    "conf = confusion_matrix(y_test, y_pred_test)\n",
    "print(conf)\n",
    "print(\"Registros erroneamente classificados como Default     =  %.1f\" %(conf[0][1]/ sum(sum(conf))*100 ) )\n",
    "print(\"Registros erroneamente classificados como Não-Default = %.1f\"%(conf[1][0]/ sum(sum(conf))*100 ) )\n",
    "print(\"Registros corretamente classificados como Default     = %.1f\"% (conf[1][1]/ sum(sum(conf))*100 ) )\n",
    "print(\"Registros corretamente classificados como Não-Default = %.1f\"% (conf[0][0]/ sum(sum(conf))*100 ))"
   ]
  },
  {
   "cell_type": "code",
   "execution_count": 18,
   "id": "f16c9eb2",
   "metadata": {},
   "outputs": [
    {
     "name": "stdout",
     "output_type": "stream",
     "text": [
      "AUC - Treinamento : 0.654395\n",
      "Gini - Treinamento:  0.31\n",
      "\n",
      "\n",
      "AUC - Teste : 0.633250\n",
      "Gini - Teste:  0.27\n"
     ]
    }
   ],
   "source": [
    "# Calculando a ROC (AUC) e o Gini - Treinamento\n",
    "\n",
    "fpr_train, tpr_train, thresholds_train = roc_curve(y_train, y_pred_train)\n",
    "roc_auc_train = auc(fpr_train, tpr_train)\n",
    "\n",
    "print(\"AUC - Treinamento : %f\" % roc_auc_train)\n",
    "print(\"Gini - Treinamento: \", round(2*roc_auc_train-1,2))\n",
    "print(\"\\n\")\n",
    "\n",
    "# Calculando a ROC e o Gini - Teste\n",
    "fpr_test, tpr_test, thresholds_test = roc_curve(y_test, y_pred_test)\n",
    "roc_auc_test = auc(fpr_test, tpr_test)\n",
    "\n",
    "print(\"AUC - Teste : %f\" % roc_auc_test)\n",
    "print(\"Gini - Teste: \", round(2*roc_auc_test-1,2))"
   ]
  }
 ],
 "metadata": {
  "kernelspec": {
   "display_name": "Python 3 (ipykernel)",
   "language": "python",
   "name": "python3"
  },
  "language_info": {
   "codemirror_mode": {
    "name": "ipython",
    "version": 3
   },
   "file_extension": ".py",
   "mimetype": "text/x-python",
   "name": "python",
   "nbconvert_exporter": "python",
   "pygments_lexer": "ipython3",
   "version": "3.8.10"
  }
 },
 "nbformat": 4,
 "nbformat_minor": 5
}
