{
 "cells": [
  {
   "cell_type": "markdown",
   "id": "683b9c1e",
   "metadata": {},
   "source": [
    "# 4.3. Conceitos fundamentais de estatística para os modelos de crédito"
   ]
  },
  {
   "cell_type": "code",
   "execution_count": 2,
   "id": "a0e497da",
   "metadata": {},
   "outputs": [],
   "source": [
    "import numpy as np\n",
    "import pandas as pd\n",
    "from scipy import stats"
   ]
  },
  {
   "cell_type": "code",
   "execution_count": 3,
   "id": "9a2fc174",
   "metadata": {},
   "outputs": [],
   "source": [
    "# Capturando os dados para a análise\n",
    "\n",
    "def consulta_bc(codigo_bcb):\n",
    "    url = \"http://api.bcb.gov.br/dados/serie/bcdata.sgs.{}/dados?formato=json\".format(codigo_bcb)\n",
    "    df = pd.read_json(url)\n",
    "    df[\"data\"] = pd.to_datetime(df[\"data\"], dayfirst=True)\n",
    "    df.set_index(\"data\", inplace=True)\n",
    "    return df\n",
    "\n",
    "ipca = consulta_bc(433) # índice nacional de preços ao consumidor-amplo IBGE"
   ]
  },
  {
   "cell_type": "code",
   "execution_count": 4,
   "id": "6bf2bdfc",
   "metadata": {
    "scrolled": true
   },
   "outputs": [
    {
     "data": {
      "text/plain": [
       "count    513.000000\n",
       "mean       5.969454\n",
       "std       10.877966\n",
       "min       -0.680000\n",
       "25%        0.380000\n",
       "50%        0.780000\n",
       "75%        6.840000\n",
       "max       82.390000\n",
       "Name: valor, dtype: float64"
      ]
     },
     "execution_count": 4,
     "metadata": {},
     "output_type": "execute_result"
    }
   ],
   "source": [
    "ipca[\"valor\"].describe()"
   ]
  },
  {
   "cell_type": "code",
   "execution_count": 6,
   "id": "95ab92e1",
   "metadata": {},
   "outputs": [
    {
     "data": {
      "text/plain": [
       "10.877966230453449"
      ]
     },
     "execution_count": 6,
     "metadata": {},
     "output_type": "execute_result"
    }
   ],
   "source": [
    "ipca[\"valor\"].describe()[2]"
   ]
  },
  {
   "cell_type": "code",
   "execution_count": 7,
   "id": "1d503c81",
   "metadata": {},
   "outputs": [
    {
     "data": {
      "text/plain": [
       "5.969454191033146"
      ]
     },
     "execution_count": 7,
     "metadata": {},
     "output_type": "execute_result"
    }
   ],
   "source": [
    "# Medidas de tendência central\n",
    "# Média\n",
    "\n",
    "media = np.mean(ipca[\"valor\"])\n",
    "media"
   ]
  },
  {
   "cell_type": "code",
   "execution_count": 8,
   "id": "a701fdce",
   "metadata": {},
   "outputs": [
    {
     "data": {
      "text/plain": [
       "0.78"
      ]
     },
     "execution_count": 8,
     "metadata": {},
     "output_type": "execute_result"
    }
   ],
   "source": [
    "# Medidas de tendência central\n",
    "# Mediana\n",
    "\n",
    "np.median(ipca[\"valor\"])"
   ]
  },
  {
   "cell_type": "code",
   "execution_count": 9,
   "id": "a3725c28",
   "metadata": {},
   "outputs": [
    {
     "name": "stdout",
     "output_type": "stream",
     "text": [
      "O valor da moda é 0.24 com um total de registros de 7\n"
     ]
    }
   ],
   "source": [
    "# Medidas de tendência central\n",
    "# Moda\n",
    "\n",
    "moda = stats.mode(ipca[\"valor\"])\n",
    "\n",
    "print(\"O valor da moda é {} com um total de registros de {}\".format(moda.mode[0], moda.count[0]))"
   ]
  },
  {
   "cell_type": "code",
   "execution_count": 11,
   "id": "9056e5a6",
   "metadata": {},
   "outputs": [
    {
     "data": {
      "text/plain": [
       "83.07000000000001"
      ]
     },
     "execution_count": 11,
     "metadata": {},
     "output_type": "execute_result"
    }
   ],
   "source": [
    "# Range - Intervalo\n",
    "# O intervalo dá uma medida de quão distantes estão os valores.\n",
    "# O intervalo é simplesmente calculado como o valor máximo - valor mínimo\n",
    "\n",
    "np.ptp(ipca[\"valor\"])"
   ]
  },
  {
   "cell_type": "code",
   "execution_count": 12,
   "id": "0db2331e",
   "metadata": {},
   "outputs": [
    {
     "data": {
      "text/plain": [
       "118.099"
      ]
     },
     "execution_count": 12,
     "metadata": {},
     "output_type": "execute_result"
    }
   ],
   "source": [
    "# Variância\n",
    "\n",
    "np.round(np.var(ipca[\"valor\"]), 3)"
   ]
  },
  {
   "cell_type": "code",
   "execution_count": 14,
   "id": "9fce8092",
   "metadata": {},
   "outputs": [
    {
     "data": {
      "text/plain": [
       "5.969454191033146"
      ]
     },
     "execution_count": 14,
     "metadata": {},
     "output_type": "execute_result"
    }
   ],
   "source": [
    "ipca[\"valor\"].mean()"
   ]
  },
  {
   "cell_type": "code",
   "execution_count": 15,
   "id": "5c46964c",
   "metadata": {},
   "outputs": [
    {
     "data": {
      "text/plain": [
       "10.877966230453449"
      ]
     },
     "execution_count": 15,
     "metadata": {},
     "output_type": "execute_result"
    }
   ],
   "source": [
    "ipca[\"valor\"].std()"
   ]
  },
  {
   "cell_type": "code",
   "execution_count": 13,
   "id": "d83d0435",
   "metadata": {},
   "outputs": [
    {
     "data": {
      "text/plain": [
       "10.867"
      ]
     },
     "execution_count": 13,
     "metadata": {},
     "output_type": "execute_result"
    }
   ],
   "source": [
    "# Desvio Padrão\n",
    "\n",
    "# A variância pode ficar muito grande para grandes conjuntos de dados e, portanto,\n",
    "# muitas vezes usaremos o desvio padrão, que é a raiz quadrada da variância.\n",
    "# 68,2% dos dados estão dentro de 1 desvio padrão da média,\n",
    "# 95,4% estão dentro de 2 desvios padrão da média e\n",
    "# 99,7% estão dentro de 3 desvios padrão.\n",
    "\n",
    "np.round(np.std(ipca[\"valor\"]), 3)"
   ]
  },
  {
   "cell_type": "code",
   "execution_count": 17,
   "id": "8fc944df",
   "metadata": {},
   "outputs": [
    {
     "data": {
      "text/plain": [
       "0.48"
      ]
     },
     "execution_count": 17,
     "metadata": {},
     "output_type": "execute_result"
    }
   ],
   "source": [
    "# Erro padrão\n",
    "\n",
    "# O erro padrão da média (SE da média) estima a variabilidade entre as médias amostrais\n",
    "# que você obteria se coletasse várias amostras da mesma população.\n",
    "# O erro padrão da média estima a variabilidade entre amostras enquanto\n",
    "# o desvio padrão mede a variabilidade dentro de uma única amostra.\n",
    "\n",
    "np.round(stats.sem(ipca[\"valor\"]), 3)"
   ]
  },
  {
   "cell_type": "markdown",
   "id": "4145aabb",
   "metadata": {},
   "source": [
    "Servir como base para a criação de novas variáveis para os nossos modelos preditivos!"
   ]
  }
 ],
 "metadata": {
  "kernelspec": {
   "display_name": "Python 3 (ipykernel)",
   "language": "python",
   "name": "python3"
  },
  "language_info": {
   "codemirror_mode": {
    "name": "ipython",
    "version": 3
   },
   "file_extension": ".py",
   "mimetype": "text/x-python",
   "name": "python",
   "nbconvert_exporter": "python",
   "pygments_lexer": "ipython3",
   "version": "3.8.10"
  }
 },
 "nbformat": 4,
 "nbformat_minor": 5
}
